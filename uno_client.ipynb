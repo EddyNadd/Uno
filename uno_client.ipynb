{
 "cells": [
  {
   "cell_type": "markdown",
   "id": "199e1ad4",
   "metadata": {},
   "source": [
    "# Uno multiplayer"
   ]
  },
  {
   "cell_type": "markdown",
   "id": "fb612cb5",
   "metadata": {},
   "source": [
    "#### Import all library"
   ]
  },
  {
   "cell_type": "code",
   "execution_count": 77,
   "id": "19c7f150",
   "metadata": {
    "ExecuteTime": {
     "end_time": "2023-05-31T08:24:33.647344Z",
     "start_time": "2023-05-31T08:24:33.634381Z"
    }
   },
   "outputs": [],
   "source": [
    "import pygame\n",
    "import socket\n",
    "import time\n",
    "import asyncio\n",
    "import threading\n",
    "import pickle"
   ]
  },
  {
   "cell_type": "markdown",
   "id": "ff47e8fb",
   "metadata": {},
   "source": [
    "#### Button class\n",
    "\n",
    "Taken at :\n",
    "https://github.com/russs123/pygame_tutorials/blob/main/Button/button.py\n",
    "\n",
    "By russs123 : \n",
    "https://github.com/russs123"
   ]
  },
  {
   "cell_type": "code",
   "execution_count": 78,
   "id": "05f636da",
   "metadata": {
    "ExecuteTime": {
     "end_time": "2023-05-31T08:24:33.662418Z",
     "start_time": "2023-05-31T08:24:33.650341Z"
    }
   },
   "outputs": [],
   "source": [
    "class Button():\n",
    "    def __init__(self, x, y, image, scale):\n",
    "        width = image.get_width()\n",
    "        height = image.get_height()\n",
    "        self.image = pygame.transform.scale(image, (int(width * scale), int(height * scale)))\n",
    "        self.rect = self.image.get_rect()\n",
    "        self.rect.topleft = (x, y)\n",
    "        self.clicked = False\n",
    "\n",
    "    def draw(self, surface):\n",
    "        action = False\n",
    "        #get mouse position\n",
    "        pos = pygame.mouse.get_pos()\n",
    "\n",
    "        #check mouseover and clicked conditions\n",
    "        if self.rect.collidepoint(pos):\n",
    "            if pygame.mouse.get_pressed()[0] == 1 and self.clicked == False:\n",
    "                self.clicked = True\n",
    "                action = True\n",
    "\n",
    "        if pygame.mouse.get_pressed()[0] == 0:\n",
    "            self.clicked = False\n",
    "\n",
    "        #draw button on screen\n",
    "        surface.blit(self.image, (self.rect.x, self.rect.y))\n",
    "\n",
    "        return action"
   ]
  },
  {
   "cell_type": "markdown",
   "id": "ba0536a8",
   "metadata": {},
   "source": [
    "#### Pygame initialisation"
   ]
  },
  {
   "cell_type": "code",
   "execution_count": 79,
   "id": "93ad3d2f",
   "metadata": {
    "ExecuteTime": {
     "end_time": "2023-05-31T08:24:33.940250Z",
     "start_time": "2023-05-31T08:24:33.664345Z"
    }
   },
   "outputs": [],
   "source": [
    "pygame.init()\n",
    "screen = pygame.display.set_mode((1280,720)) #,pygame.FULLSCREEN\n",
    "clock = pygame.time.Clock()\n",
    "run = True\n",
    "baseFont = pygame.font.Font(None,32)\n",
    "pygame.display.set_caption('Uno multiplayer')"
   ]
  },
  {
   "cell_type": "markdown",
   "id": "6e85c971",
   "metadata": {},
   "source": [
    "#### Pygame quit event"
   ]
  },
  {
   "cell_type": "code",
   "execution_count": 80,
   "id": "85f343b1",
   "metadata": {
    "ExecuteTime": {
     "end_time": "2023-05-31T08:24:33.947406Z",
     "start_time": "2023-05-31T08:24:33.941764Z"
    }
   },
   "outputs": [],
   "source": [
    "def quitEvent():\n",
    "    run = False\n",
    "    send(DISCONNECT_MESSAGE)\n",
    "    pygame.quit()"
   ]
  },
  {
   "cell_type": "markdown",
   "id": "3d63cfbe",
   "metadata": {},
   "source": [
    "#### Socket and var initialisation"
   ]
  },
  {
   "cell_type": "code",
   "execution_count": 81,
   "id": "9d604ea7",
   "metadata": {
    "ExecuteTime": {
     "end_time": "2023-05-31T08:24:34.015681Z",
     "start_time": "2023-05-31T08:24:33.951096Z"
    }
   },
   "outputs": [],
   "source": [
    "HEADER = 64\n",
    "PORT = 8080\n",
    "SERVER = \"localhost\"\n",
    "FORMAT = 'utf-8'\n",
    "DISCONNECT_MESSAGE = ['!DISCONNECT']\n",
    "ADDR = (SERVER, PORT)\n",
    "client = socket.socket(socket.AF_INET, socket.SOCK_STREAM)\n",
    "client.connect(ADDR)\n",
    "connected = True\n",
    "currentMessage = [\"none\",\"none\",\"none\"]\n",
    "tmpMessage = [\"none\", \"none\", \"none\"]\n",
    "currentRoom = \"\"\n",
    "username = \"\"\n",
    "players = []\n",
    "myHand = []\n",
    "heap = []\n",
    "listNumber = [0,1,2,3,4,5,6,7,8,9,10,11,12,13,18,14,15,16,17,19,20,21,22]\n",
    "listColor = [0, 1, 2, 3, 4]   \n",
    "listSpecialCard = [[1,4], [2,4], [3,4] , [4,4], [6,4] , [7,4] , [8,4] , [9,4]]\n",
    "myTurn = False"
   ]
  },
  {
   "cell_type": "markdown",
   "id": "6d365fa6",
   "metadata": {},
   "source": [
    "#### Socket loop"
   ]
  },
  {
   "cell_type": "code",
   "execution_count": 82,
   "id": "a8fc1f0e",
   "metadata": {
    "ExecuteTime": {
     "end_time": "2023-05-31T08:24:34.021154Z",
     "start_time": "2023-05-31T08:24:34.016648Z"
    }
   },
   "outputs": [],
   "source": [
    "def start_loop(loop):\n",
    "    asyncio.set_event_loop(loop)\n",
    "    loop.run_forever()"
   ]
  },
  {
   "cell_type": "markdown",
   "id": "09b951db",
   "metadata": {},
   "source": [
    "#### Socket get message"
   ]
  },
  {
   "cell_type": "code",
   "execution_count": 83,
   "id": "cd3019fd",
   "metadata": {
    "ExecuteTime": {
     "end_time": "2023-05-31T08:24:34.029662Z",
     "start_time": "2023-05-31T08:24:34.023169Z"
    }
   },
   "outputs": [],
   "source": [
    "async def socket():\n",
    "    global currentMessage\n",
    "    global run\n",
    "    global tmpMessage\n",
    "    global myTurn\n",
    "    while run:\n",
    "        message = client.recv(512)\n",
    "        currentMessage = pickle.loads(message)\n",
    "        print(currentMessage)\n",
    "        if currentMessage[len(currentMessage)-1] == \"yourTurn\":\n",
    "            tmpMessage = currentMessage\n",
    "            myTurn = True"
   ]
  },
  {
   "cell_type": "markdown",
   "id": "44fec68c",
   "metadata": {},
   "source": [
    "#### Send function"
   ]
  },
  {
   "cell_type": "code",
   "execution_count": 84,
   "id": "ff28615c",
   "metadata": {
    "ExecuteTime": {
     "end_time": "2023-05-31T08:24:34.037223Z",
     "start_time": "2023-05-31T08:24:34.031212Z"
    }
   },
   "outputs": [],
   "source": [
    "def send(msg):\n",
    "    message = pickle.dumps(msg)\n",
    "    msg_lenght = len(message)\n",
    "    send_lenght = str(msg_lenght).encode(FORMAT)\n",
    "    send_lenght += b' ' * (HEADER - len(send_lenght))\n",
    "    client.send(send_lenght)\n",
    "    client.send(pickle.dumps(msg))"
   ]
  },
  {
   "cell_type": "markdown",
   "id": "8a667e32",
   "metadata": {},
   "source": [
    "#### Load assets"
   ]
  },
  {
   "cell_type": "code",
   "execution_count": 85,
   "id": "412028fe",
   "metadata": {
    "ExecuteTime": {
     "end_time": "2023-05-31T08:24:34.066546Z",
     "start_time": "2023-05-31T08:24:34.039759Z"
    }
   },
   "outputs": [],
   "source": [
    "newGameBtn = pygame.image.load('./assets/Buttons/Red/New Game 192x48.png').convert_alpha()\n",
    "optionBtn = pygame.image.load('./assets/Buttons/Red/Options 192x48.png').convert_alpha()\n",
    "quitBtn = pygame.image.load('./assets/Buttons/Red/Quit 192x48.png').convert_alpha()\n",
    "exitBtn = pygame.image.load('./assets/Buttons/Red/Exit 192x48.png').convert_alpha()\n",
    "audioBtn = pygame.image.load('./assets/Buttons/Red/Audio 192x48.png').convert_alpha()\n",
    "newBtn = pygame.image.load('./assets/Buttons/Red/New 192x48.png').convert_alpha()\n",
    "joinBtn = pygame.image.load('./assets/Buttons/Red/Load Game 192x48.png').convert_alpha()\n",
    "quitGameBtn = pygame.image.load('./assets/Buttons/Red/Quit Game 192x48.png').convert_alpha()\n",
    "startGameBtn = pygame.image.load('./assets/Buttons/Red/Start Game 192x48.png').convert_alpha()\n",
    "stack = pygame.image.load('./assets/Cards/Pile.png').convert_alpha()\n",
    "spriteSheetCards = pygame.image.load('./assets/Cards/Cards.png').convert_alpha()\n",
    "background = pygame.image.load('./assets/background.jpg').convert_alpha()\n",
    "changeRed = pygame.image.load('./assets/Cards/ChangeRed.png').convert_alpha()\n",
    "changeBlue = pygame.image.load('./assets/Cards/ChangeBlue.png').convert_alpha()\n",
    "changeYellow = pygame.image.load('./assets/Cards/ChangeYellow.png').convert_alpha()\n",
    "changeGreen = pygame.image.load('./assets/Cards/ChangeGreen.png').convert_alpha()\n",
    "plus4Red = pygame.image.load('./assets/Cards/Plus4Red.png').convert_alpha()\n",
    "plus4Blue = pygame.image.load('./assets/Cards/Plus4Blue.png').convert_alpha()\n",
    "plus4Yellow = pygame.image.load('./assets/Cards/Plus4Yellow.png').convert_alpha()\n",
    "plus4Green = pygame.image.load('./assets/Cards/Plus4Green.png').convert_alpha()\n",
    "uno = pygame.image.load('./assets/Buttons/Red/Uno 192x48.png').convert_alpha()\n",
    "counterUno = pygame.image.load('./assets/Buttons/Red/Counter Uno 192x48.png').convert_alpha()"
   ]
  },
  {
   "cell_type": "markdown",
   "id": "2617021d",
   "metadata": {},
   "source": [
    "#### Load image of file "
   ]
  },
  {
   "cell_type": "code",
   "execution_count": 86,
   "id": "850a699d",
   "metadata": {
    "ExecuteTime": {
     "end_time": "2023-05-31T08:24:34.073034Z",
     "start_time": "2023-05-31T08:24:34.068422Z"
    }
   },
   "outputs": [],
   "source": [
    "def get_image(sheet, frameW, frameH, width, height, scale):\n",
    "        image = pygame.Surface((width, height)).convert_alpha()\n",
    "        image.blit(sheet, (0, 0), ((frameW * width), ((frameH * height)), width, height))\n",
    "        image = pygame.transform.scale(image, (width * scale, height * scale))\n",
    "                \n",
    "        return image"
   ]
  },
  {
   "cell_type": "markdown",
   "id": "6fc9a7e6",
   "metadata": {},
   "source": [
    "#### Text Display"
   ]
  },
  {
   "cell_type": "code",
   "execution_count": 87,
   "id": "80122318",
   "metadata": {
    "ExecuteTime": {
     "end_time": "2023-05-31T08:24:34.081136Z",
     "start_time": "2023-05-31T08:24:34.075024Z"
    }
   },
   "outputs": [],
   "source": [
    "textCol = (255,255,255)\n",
    "colorTextRect = (200,200,200)\n",
    "def drawText(text, font, textCol, x, y):\n",
    "    img = font.render(text, True, textCol)\n",
    "    screen.blit(img, (x, y))"
   ]
  },
  {
   "cell_type": "markdown",
   "id": "3660cd49",
   "metadata": {},
   "source": [
    "#### Option menu"
   ]
  },
  {
   "cell_type": "code",
   "execution_count": 88,
   "id": "7ab39f6f",
   "metadata": {
    "ExecuteTime": {
     "end_time": "2023-05-31T08:24:34.090017Z",
     "start_time": "2023-05-31T08:24:34.083133Z"
    }
   },
   "outputs": [],
   "source": [
    "def optionMenu():\n",
    "    localRun = True\n",
    "    abilityToClick = False\n",
    "    x, y = pygame.display.get_surface().get_size()\n",
    "    audioSettings = Button(x/2-((audioBtn.get_width()/2)*1.5), y/3-((audioBtn.get_height()/2)*1.5), audioBtn, 1.5)\n",
    "    exitMenu = Button(x/2-((exitBtn.get_width()/2)*1.5), 2*y/3-((exitBtn.get_height()/2)*1.5), exitBtn, 1.5)\n",
    "    \n",
    "    while localRun:\n",
    "        pygame.display.flip()\n",
    "        screen.fill((0, 0, 0))\n",
    "        events = pygame.event.get()\n",
    "        if audioSettings.draw(screen) and abilityToClick:\n",
    "            abilityToClick = False\n",
    "            print('Audio')\n",
    "        if exitMenu.draw(screen) and abilityToClick:\n",
    "            abilityToClick = False\n",
    "            localRun = False \n",
    "        abilityToClick = True\n",
    "        for event in pygame.event.get():\n",
    "            if event.type == pygame.QUIT:\n",
    "                quitEvent()"
   ]
  },
  {
   "cell_type": "markdown",
   "id": "78b1683f",
   "metadata": {},
   "source": [
    "#### Join game menu"
   ]
  },
  {
   "cell_type": "code",
   "execution_count": 89,
   "id": "c2dcd724",
   "metadata": {
    "ExecuteTime": {
     "end_time": "2023-05-31T08:24:34.111073Z",
     "start_time": "2023-05-31T08:24:34.092041Z"
    }
   },
   "outputs": [],
   "source": [
    "def joinMenu():\n",
    "    \n",
    "    global currentMessage\n",
    "\n",
    "    global currentRoom\n",
    "\n",
    "    global username\n",
    "\n",
    "    errorMessage = \"\"\n",
    "    \n",
    "    localRun = True\n",
    "\n",
    "    abilityToClick = False\n",
    "\n",
    "    screen.fill((0, 0, 0))\n",
    "\n",
    "    x, y = pygame.display.get_surface().get_size()\n",
    "    \n",
    "    #create rectangle as text box\n",
    "    codeTextBox = pygame.Rect(x/2-((joinBtn.get_width()/2)*1.5),3*y/6-((newBtn.get_height()/2)*1.5)+ (newBtn.get_height()/2)-7, 105,joinBtn.get_height())\n",
    "    usernameTextBox = pygame.Rect(x/2-((joinBtn.get_width()/2)*1.5),y/6-((newBtn.get_height()/2)*1.5)+ (newBtn.get_height()/2)-7, joinBtn.get_width()*1.5,joinBtn.get_height())\n",
    "    #Variable for the text box (color of the rectangle and state of the box selected or not)\n",
    "    activeCode = False\n",
    "    activeUsername = False\n",
    "    \n",
    "    #String for the text box\n",
    "    code = \"\"\n",
    "    \n",
    "    joinRoom = Button(x/2-((joinBtn.get_width()/2)*1.5), 4*y/6-((joinBtn.get_height()/2)*1.5), joinBtn, 1.5)\n",
    "    newRoom = Button(x/2-((newBtn.get_width()/2)*1.5), 2*y/6-((newBtn.get_height()/2)*1.5), newBtn, 1.5)\n",
    "    exitMenu = Button(x/2-((exitBtn.get_width()/2)*1.5), 5*y/6-((exitBtn.get_height()/2)*1.5), exitBtn, 1.5)\n",
    "        \n",
    "    \n",
    "    while localRun:\n",
    "        UI_REFRESH_RATE = clock.tick(60)/1000\n",
    "        screen.fill((0, 0, 0))\n",
    "        #draw the text box\n",
    "        pygame.draw.rect(screen,colorTextRect,codeTextBox,2)\n",
    "        pygame.draw.rect(screen,colorTextRect,usernameTextBox,2)\n",
    "        #write text\n",
    "        label = baseFont.render(errorMessage, 1, textCol)\n",
    "        screen.blit(label, (x/2-((newBtn.get_width()/2)*1.5), y/9-((newBtn.get_height()/2)*1.5) + newBtn.get_height()/2))\n",
    "        label = baseFont.render(\"Your username :\", 1, textCol)\n",
    "        screen.blit(label, (x/2-((newBtn.get_width()/2)*1.5) - 250, y/6-((newBtn.get_height()/2)*1.5) + newBtn.get_height()/2))\n",
    "        label = baseFont.render(\"Room code :\", 1, textCol)\n",
    "        screen.blit(label, (x/2-((joinBtn.get_width()/2)*1.5) - 250, 3*y/6-((joinBtn.get_height()/2)*1.5) + joinBtn.get_height()/2))\n",
    "        #set the location or where we can write\n",
    "        drawText(username, baseFont, textCol, x/2-(newBtn.get_width()/2)*1.5 ,y/6-((newBtn.get_height()/2)*1.5)+ newBtn.get_height()/2)\n",
    "        drawText(code, baseFont, textCol, x/2-(newBtn.get_width()/2)*1.5 ,3*y/6-((newBtn.get_height()/2)*1.5)+ newBtn.get_height()/2)\n",
    "        \n",
    "        for event in pygame.event.get():\n",
    "            if event.type == pygame.QUIT:\n",
    "                quitEvent()\n",
    "            #check if a text box is selected\n",
    "            if event.type == pygame.MOUSEBUTTONDOWN:\n",
    "                if codeTextBox.collidepoint(event.pos):\n",
    "                    activeCode = True\n",
    "                else:\n",
    "                    activeCode = False\n",
    "                if usernameTextBox.collidepoint(event.pos): \n",
    "                    activeUsername = True\n",
    "                else:\n",
    "                    activeUsername = False\n",
    "            #write in the code text box\n",
    "            if activeCode == True:     \n",
    "                if event.type == pygame.TEXTINPUT:\n",
    "                    if len(code) < 5:\n",
    "                        if event.text != \",\" and event.text != \".\":\n",
    "                            code += event.text.upper()\n",
    "                if event.type == pygame.KEYDOWN:\n",
    "                    if event.key == pygame.K_BACKSPACE:\n",
    "                        code = code[:-1]\n",
    "            #write in the username text box            \n",
    "            if activeUsername == True:     \n",
    "                if event.type == pygame.TEXTINPUT:\n",
    "                    if len(username) < 13:\n",
    "                        if event.text != \",\" and event.text != \".\":\n",
    "                            username += event.text\n",
    "                if event.type == pygame.KEYDOWN:\n",
    "                    if event.key == pygame.K_BACKSPACE:\n",
    "                        username = username[:-1]\n",
    "        if newRoom.draw(screen) and abilityToClick:\n",
    "            abilityToClick = False\n",
    "            if len(username) > 0:\n",
    "                send([f'{username}','createRoom',-1])\n",
    "                while currentMessage[0] != \"error\" or currentMessage[0] != \"joinNow\":\n",
    "                    if currentMessage[0] == \"error\":\n",
    "                        currentRoom = currentMessage[1]\n",
    "                        errorMessage = \"Cannot create a room.\"\n",
    "                        break\n",
    "                    elif currentMessage[0] == \"joinNow\":\n",
    "                        currentRoom = currentMessage[1]\n",
    "                        errorMessage = \"\"\n",
    "                        lobbyMenu()\n",
    "                        break\n",
    "                currentMessage = [\"none\",\"none\",\"none\"]\n",
    "            else:\n",
    "                errorMessage = \"Please enter a username.\"\n",
    "        if joinRoom.draw(screen) and abilityToClick:\n",
    "            abilityToClick = False\n",
    "            if len(username) > 0 and len(code) > 0:\n",
    "                send([f'{username}','joinRoom',f'{code}'])\n",
    "                while currentMessage[0] != \"error\" or currentMessage[0] != \"joinNow\":\n",
    "                    if currentMessage[0] == \"error\":\n",
    "                        currentRoom = currentMessage[1]\n",
    "                        errorMessage = \"Cannot join this room (may be full, not exist or username already in use).\"\n",
    "                        break\n",
    "                    elif currentMessage[0] == \"joinNow\":\n",
    "                        currentRoom = currentMessage[1]\n",
    "                        errorMessage = \"\"\n",
    "                        lobbyMenu()\n",
    "                        break\n",
    "                currentMessage = [\"none\",\"none\",\"none\"]\n",
    "            else:\n",
    "                errorMessage = \"Please enter a username and a room code.\"\n",
    "        if exitMenu.draw(screen) and abilityToClick:\n",
    "            abilityToClick = False\n",
    "            localRun = False\n",
    "        abilityToClick = True\n",
    "        pygame.display.flip()\n",
    "        pygame.display.update()\n",
    "        "
   ]
  },
  {
   "cell_type": "markdown",
   "id": "780f4e3e",
   "metadata": {},
   "source": [
    "#### Current lobby menu"
   ]
  },
  {
   "cell_type": "code",
   "execution_count": 90,
   "id": "2b50786c",
   "metadata": {
    "ExecuteTime": {
     "end_time": "2023-05-31T08:24:34.123588Z",
     "start_time": "2023-05-31T08:24:34.113070Z"
    }
   },
   "outputs": [],
   "source": [
    "def lobbyMenu():\n",
    "    localRun = True\n",
    "\n",
    "    global players\n",
    "\n",
    "    global currentRoom\n",
    "\n",
    "    global currentMessage\n",
    "\n",
    "    global username\n",
    "    \n",
    "    global myHand\n",
    "    \n",
    "    global heap\n",
    "    \n",
    "    abilityToClick = False\n",
    "    \n",
    "    errorMessage = \"\"\n",
    "\n",
    "    x, y = pygame.display.get_surface().get_size()\n",
    "    startGame = Button(x/2-((startGameBtn.get_width()/2)*1.5), y/3-((startGameBtn.get_height()/2)*1.5), startGameBtn, 1.5)\n",
    "    quitGame = Button(x/2-((quitGameBtn.get_width()/2)*1.5), 2*y/3-((quitGameBtn.get_height()/2)*1.5), quitGameBtn, 1.5)\n",
    "    send([f'{username}','getPlayers',f'{currentRoom}'])\n",
    "    while localRun:\n",
    "        screen.fill((0, 0, 0))\n",
    "        label = baseFont.render(errorMessage, 1, textCol)\n",
    "        screen.blit(label, (x/2-((newBtn.get_width()/2)*1.5), y/9-((newBtn.get_height()/2)*1.5) + newBtn.get_height()/2))\n",
    "        if currentMessage[0] == \"setPlayers\":\n",
    "            players = []\n",
    "            counter = 0\n",
    "            for msg in currentMessage:\n",
    "                if counter > 0:\n",
    "                    players.append(msg)\n",
    "                counter = counter + 1\n",
    "            currentMessage = [\"none\",\"none\",\"none\"]\n",
    "        label = baseFont.render(f\"Current room : {currentRoom}\", 1, textCol)\n",
    "        screen.blit(label, (50, 50))\n",
    "        counter = 0\n",
    "        if currentMessage[0] == \"startNow\":\n",
    "            abilityToClick = False\n",
    "            myHand = [[0,4],[1,0]]  # à la place de ça -> currentMessage[2]\n",
    "            heap = currentMessage[1]\n",
    "            gameTable()\n",
    "            currentMessage = [\"none\",\"none\",\"none\"]\n",
    "        if currentMessage[0] == \"notAValidNumberOfPerson\":\n",
    "            errorMessage = \"You can't start the game. There are maybe some players missing.\"\n",
    "            currentMessage = [\"none\",\"none\",\"none\"]\n",
    "        for p in players:\n",
    "            counter = counter + 1\n",
    "            label = baseFont.render(f\"Player {counter} : {p}\", 1, textCol)\n",
    "            screen.blit(label, (50, 50*(counter+1)))\n",
    "        if startGame.draw(screen) and abilityToClick:\n",
    "            abilityToClick = False\n",
    "            send([f'{username}','startGame',f'{currentRoom}'])\n",
    "        if quitGame.draw(screen) and abilityToClick:\n",
    "            abilityToClick = False\n",
    "            players = []\n",
    "            send([f'{username}','quitRoom',f'{currentRoom}'])\n",
    "            localRun = False            \n",
    "        abilityToClick = True\n",
    "        pygame.display.flip()\n",
    "        for event in pygame.event.get():\n",
    "            if event.type == pygame.QUIT:\n",
    "                quitEvent()\n",
    "        pygame.display.update()"
   ]
  },
  {
   "cell_type": "markdown",
   "id": "22b928fa",
   "metadata": {},
   "source": [
    "#### End screen"
   ]
  },
  {
   "cell_type": "code",
   "execution_count": 91,
   "id": "a260531f",
   "metadata": {
    "ExecuteTime": {
     "end_time": "2023-05-31T08:24:34.132158Z",
     "start_time": "2023-05-31T08:24:34.124587Z"
    }
   },
   "outputs": [],
   "source": [
    "def endScreen(winner):\n",
    "    \n",
    "    localRun = True\n",
    "    \n",
    "    global currentMessage\n",
    "    \n",
    "    x, y = pygame.display.get_surface().get_size()\n",
    "    \n",
    "    currentMessage = [\"none\",\"none\",\"none\"]\n",
    "    \n",
    "    while localRun:\n",
    "        screen.fill((0,0,0))\n",
    "        label = baseFont.render(winner, 1, textCol)\n",
    "        screen.blit(label, (x/2, y/2))\n",
    "        \n",
    "        pygame.display.flip()\n",
    "        for event in pygame.event.get():\n",
    "            if event.type == pygame.QUIT:\n",
    "                quitEvent()\n",
    "        pygame.display.update()"
   ]
  },
  {
   "cell_type": "markdown",
   "id": "0c121aa3",
   "metadata": {},
   "source": [
    "#### Game table"
   ]
  },
  {
   "cell_type": "code",
   "execution_count": 92,
   "id": "343b0dea",
   "metadata": {
    "ExecuteTime": {
     "end_time": "2023-05-31T08:24:34.172176Z",
     "start_time": "2023-05-31T08:24:34.134126Z"
    }
   },
   "outputs": [],
   "source": [
    "def gameTable():\n",
    "    \n",
    "    localRun = True\n",
    "    \n",
    "    global currentMessage\n",
    "    \n",
    "    global tmpMessage\n",
    "    \n",
    "    global currentRoom\n",
    "    \n",
    "    global listNumber\n",
    "    \n",
    "    global listColor\n",
    "    \n",
    "    global myHand\n",
    "    \n",
    "    global heap\n",
    "    \n",
    "    global players\n",
    "    \n",
    "    global username\n",
    "    \n",
    "    global myTurn\n",
    "    \n",
    "    abilityToClick = False\n",
    "    \n",
    "    changeColor = False\n",
    "    \n",
    "    plus4 = False\n",
    "    \n",
    "    x, y = pygame.display.get_surface().get_size()\n",
    "    \n",
    "    cardTmpInit = get_image(spriteSheetCards, listNumber[heap[0]] , listColor[heap[1]], 32, 48,3)\n",
    "    \n",
    "    cardX = cardTmpInit.get_width()\n",
    "    cardY = cardTmpInit.get_height()\n",
    "    \n",
    "    stackX = x/2-(((cardX/2))-(cardX))\n",
    "    \n",
    "    stackY = y/2-(cardY/2)\n",
    "    \n",
    "    heapX = x/2-(((cardX/2))+(cardX))\n",
    "    \n",
    "    heapY = y/2-(cardY/2)\n",
    "    \n",
    "    stackButton = Button(stackX,stackY,stack,3)\n",
    "    \n",
    "    changeRedBtn    = Button(x/4-(((cardX/2))+(cardX)), 5*y/12-((changeRed.get_height()/2)*1.5), changeRed, 3)\n",
    "    changeBlueBtn   = Button(x/6-(((cardX/2))+(cardX)), 5*y/12-((changeBlue.get_height()/2)*1.5), changeBlue, 3)\n",
    "    changeYellowBtn = Button(x/4-(((cardX/2))+(cardX)), 5*y/8-((changeYellow.get_height()/2)*1.5), changeYellow, 3)\n",
    "    changeGreenBtn  = Button(x/6-(((cardX/2))+(cardX)), 5*y/8-((changeGreen.get_height()/2)*1.5), changeGreen, 3)\n",
    "    \n",
    "    plus4RedBtn    = Button(x/4-(((cardX/2))+(cardX)), 5*y/12-((plus4Red.get_height()/2)*1.5), plus4Red, 3)\n",
    "    plus4BlueBtn   = Button(x/6-(((cardX/2))+(cardX)), 5*y/12-((plus4Blue.get_height()/2)*1.5), plus4Blue, 3)\n",
    "    plus4YellowBtn = Button(x/4-(((cardX/2))+(cardX)), 5*y/8-((plus4Yellow.get_height()/2)*1.5), plus4Yellow, 3)\n",
    "    plus4GreenBtn  = Button(x/6-(((cardX/2))+(cardX)), 5*y/8-((plus4Green.get_height()/2)*1.5), plus4Green, 3)\n",
    "    \n",
    "    unoBtn = Button((5*x/6)+(x/12)-(uno.get_width()/2), y-(2*uno.get_height())-(uno.get_height()/2), uno,1)\n",
    "    counterUnoBtn = Button((5*x/6)+(x/12)-(uno.get_width()/2), y-uno.get_height()-(uno.get_height()/2),counterUno,1)\n",
    "    \n",
    "    numberOfCards = []\n",
    "    \n",
    "   \n",
    "    \n",
    "    for player in players:\n",
    "        numberOfCards.append(7)\n",
    "\n",
    "    while localRun:\n",
    "        \n",
    "        notPlacable = False\n",
    "        \n",
    "        mousePosition = pygame.mouse.get_pos()\n",
    "        \n",
    "        screen.fill((0,0,0))\n",
    "        \n",
    "        screen.blit(background, (0, 0))\n",
    "        \n",
    "        rectangles = []\n",
    "        \n",
    "        \n",
    "        for i in range (0, len(myHand)):\n",
    "            screen.blit(get_image(spriteSheetCards, listNumber[myHand[i][0]] , listColor[myHand[i][1]], 32, 48,3), (((i+1)*(x/6)*4)/(len(myHand)+1)-(cardX/2)+(x/6), y-cardY-10))\n",
    "            if (cardX * len(myHand)) < (x/6)*4:\n",
    "                rect = pygame.Rect(((i+1)*(x/6)*4)/(len(myHand)+1)-(cardX/2)+(x/6), y-cardY-10, cardX, cardY)\n",
    "                rectangles.append(rect)\n",
    "                pygame.draw.rect(screen, (0,0,0), rect,  2)\n",
    "            elif i != len(myHand)-1:\n",
    "                rect = pygame.Rect(((i+1)*(x/6)*4)/(len(myHand)+1)-(cardX/2)+(x/6), y-cardY-10, (((x/6)*4))/len(myHand), cardY)\n",
    "                rectangles.append(rect)\n",
    "                pygame.draw.rect(screen, (0,0,0), rect,  2)\n",
    "            else:\n",
    "                rect = pygame.Rect(((i+1)*(x/6)*4)/(len(myHand)+1)-(cardX/2)+(x/6), y-cardY-10, cardX, cardY)\n",
    "                rectangles.append(rect)\n",
    "                pygame.draw.rect(screen, (0,0,0), rect,  2)\n",
    "                \n",
    "        if currentMessage[0] == \"setPlayers\":\n",
    "            players = []\n",
    "            counter = 0\n",
    "            for msg in currentMessage:\n",
    "                if counter > 0:\n",
    "                    players.append(msg)\n",
    "                counter = counter + 1\n",
    "            currentMessage = [\"none\",\"none\",\"none\"]\n",
    "            \n",
    "        if currentMessage[len(currentMessage)-1] == \"takeCards\":\n",
    "            for cards in currentMessage[4]:\n",
    "                myHand.append(cards)\n",
    "            send([f'{username}','updateNumberOfCards',f'{currentRoom}',len(myHand)])\n",
    "            \n",
    "        if currentMessage[0] == \"startNow\":\n",
    "            currentMessage = [\"none\",\"none\",\"none\"]\n",
    "        \n",
    "        if myTurn:\n",
    "            label = baseFont.render(f\"It's your turn !\", 1, textCol)\n",
    "            labelX = label.get_width()\n",
    "            screen.blit(label, (x/2 - labelX/2, y/2 - cardY - 50))\n",
    "            \n",
    "        if currentMessage[0] == \"updateHeap\":\n",
    "            heap=currentMessage[1]\n",
    "            numberOfCards[playersOrder.index(currentMessage[2])] = currentMessage[3]\n",
    "            currentMessage = [\"none\",\"none\",\"none\"]\n",
    "            \n",
    "        if tmpMessage[0] == \"updateHeap\":\n",
    "            heap=tmpMessage[1]\n",
    "            numberOfCards[playersOrder.index(tmpMessage[2])] = tmpMessage[3]\n",
    "            tmpMessage = [\"none\",\"none\",\"none\"]\n",
    "            \n",
    "        if currentMessage[0] == \"newCard\":\n",
    "            myHand.append(currentMessage[3])\n",
    "            numberOfCards[playersOrder.index(currentMessage[1])] = currentMessage[2]\n",
    "            currentMessage = [\"none\",\"none\",\"none\"]\n",
    "            \n",
    "        if currentMessage[0] == \"updateNumberOfCards\":\n",
    "            numberOfCards[playersOrder.index(currentMessage[1])] = currentMessage[2]\n",
    "            currentMessage = [\"none\",\"none\",\"none\"]\n",
    "            \n",
    "        if currentMessage[0] == \"partyEnd\":\n",
    "            endScreen(currentMessage[1])\n",
    "            \n",
    "        if currentMessage[0] == \"askedCard\":\n",
    "            numberOfCards[playersOrder.index(currentMessage[1])] = currentMessage[2]\n",
    "            currentMessage = [\"none\",\"none\",\"none\"]\n",
    "            \n",
    "        #if len(players) == 1:\n",
    "            #print(\"nobody\")\n",
    "            #quitEvent()\n",
    "            \n",
    "        currentIndex = players.index(username)\n",
    "        \n",
    "        throughPlayers = True\n",
    "        \n",
    "        counter = 0\n",
    "        \n",
    "        playersOrder = []\n",
    "        \n",
    "        while throughPlayers:\n",
    "            if counter == len(players) - 1:\n",
    "                throughPlayers = False\n",
    "            if currentIndex == len(players):\n",
    "                currentIndex = 0\n",
    "                playersOrder.append(players[currentIndex])\n",
    "                counter = counter + 1\n",
    "                currentIndex = currentIndex + 1\n",
    "            else:\n",
    "                playersOrder.append(players[currentIndex])\n",
    "                counter = counter + 1\n",
    "                currentIndex = currentIndex + 1\n",
    "                    \n",
    "        for i in range(0, len(players)):\n",
    "            label = baseFont.render(f\"{playersOrder[i]} -> {numberOfCards[i]} cards\", 1, textCol)\n",
    "            if i == 1:\n",
    "                screen.blit(label, (10, y/2 - 2))\n",
    "            elif i == 2:\n",
    "                screen.blit(label, (x/2 - 10, 10))\n",
    "            elif i == 3:\n",
    "                screen.blit(label, (x-100, y/2 - 2))\n",
    "        \n",
    "        screen.blit(get_image(spriteSheetCards, listNumber[heap[0]] , listColor[heap[1]], 32, 48,3), (heapX, heapY))\n",
    "        pygame.draw.rect(screen, ((0,0,0)), pygame.Rect(heapX, heapY, cardX, cardY),  2)\n",
    "        \n",
    "        if stackButton.draw(screen) and abilityToClick and myTurn:\n",
    "            abilityToClick = False\n",
    "            myTurn = False\n",
    "            send([f'{username}','demandingCard',f'{currentRoom}',len(myHand)+1])\n",
    "        abilityToClick = True\n",
    "        \n",
    "        if len(myHand) == 1:\n",
    "            if unoBtn.draw(screen) : \n",
    "                print(\"ICHI\")\n",
    "        if counterUnoBtn.draw(screen):\n",
    "            print(\"Counter ICHI\")\n",
    "        \n",
    "        if changeColor == True:\n",
    "            if changeRedBtn.draw(screen) :\n",
    "                print(\"Red\")\n",
    "                myTurn = False\n",
    "                changeColor = False\n",
    "                send([f'{username}','placing',f'{currentRoom}',listSpecialCard[0],len(myHand)])\n",
    "            elif changeBlueBtn.draw(screen) :  \n",
    "                print(\"Blue\")\n",
    "                myTurn = False\n",
    "                changeColor = False\n",
    "                send([f'{username}','placing',f'{currentRoom}',listSpecialCard[1],len(myHand)])\n",
    "            elif changeYellowBtn.draw(screen) :\n",
    "                print(\"Yellow\")\n",
    "                myTurn = False\n",
    "                changeColor = False\n",
    "                send([f'{username}','placing',f'{currentRoom}',listSpecialCard[2],len(myHand)])\n",
    "            elif changeGreenBtn.draw(screen) :\n",
    "                print(\"Green\")\n",
    "                myTurn = False\n",
    "                changeColor = False\n",
    "                send([f'{username}','placing',f'{currentRoom}',listSpecialCard[3],len(myHand)])        \n",
    "        if plus4 == True :\n",
    "            if plus4RedBtn.draw(screen) :\n",
    "                print(\"Red\")\n",
    "                myTurn = False\n",
    "                plus4 = False\n",
    "                send([f'{username}','placing',f'{currentRoom}',listSpecialCard[4],len(myHand)])\n",
    "            elif plus4BlueBtn.draw(screen) :  \n",
    "                print(\"Blue\")\n",
    "                myTurn = False\n",
    "                plus4 = False\n",
    "                send([f'{username}','placing',f'{currentRoom}',listSpecialCard[5],len(myHand)])\n",
    "            elif plus4YellowBtn.draw(screen) :\n",
    "                print(\"Yellow\")\n",
    "                myTurn = False\n",
    "                plus4 = False\n",
    "                send([f'{username}','placing',f'{currentRoom}',listSpecialCard[6],len(myHand)])\n",
    "            elif plus4GreenBtn.draw(screen) :\n",
    "                print(\"Green\")\n",
    "                myTurn = False\n",
    "                plus4 = False\n",
    "                send([f'{username}','placing',f'{currentRoom}',listSpecialCard[7],len(myHand)])\n",
    "        pygame.display.flip()\n",
    "        for event in pygame.event.get():\n",
    "            if event.type == pygame.MOUSEBUTTONDOWN and changeColor == False and plus4 == False:\n",
    "                if pygame.mouse.get_pressed()[0]:\n",
    "                    for i in range (0, len(myHand)):\n",
    "                        if rectangles[i].collidepoint(mousePosition) and myTurn:\n",
    "                            if myHand[i][0] == heap[0] and myHand[i][1] != 4:\n",
    "                                myTurn = False\n",
    "                                send([f'{username}','placing',f'{currentRoom}',myHand[i],len(myHand)-1])\n",
    "                                myHand.pop(i)\n",
    "                            elif myHand[i][1] == heap[1] and heap[1] != 4:\n",
    "                                myTurn = False\n",
    "                                send([f'{username}','placing',f'{currentRoom}',myHand[i],len(myHand)-1])\n",
    "                                myHand.pop(i)\n",
    "                            elif myHand[i][1] == 4:\n",
    "                                if myHand[i][0] == 0:\n",
    "                                    print(\"color\")\n",
    "                                    changeColor = True\n",
    "                                    myHand.pop(i)\n",
    "                                elif myHand[i][0] == 5:\n",
    "                                    print(\"+4\")\n",
    "                                    plus4 = True\n",
    "                                    myHand.pop(i)\n",
    "                            if heap == [1, 4] and myHand[i][1] == 0 and plus4 == False and changeColor == False:\n",
    "                                print(\"rouge\")\n",
    "                                myTurn = False\n",
    "                                send([f'{username}','placing',f'{currentRoom}',myHand[i],len(myHand)-1])\n",
    "                                myHand.pop(i)\n",
    "                            if heap == [2, 4] and myHand[i][1] == 1 and plus4 == False and changeColor == False:\n",
    "                                print(\"bleu\")\n",
    "                                myTurn = False\n",
    "                                send([f'{username}','placing',f'{currentRoom}',myHand[i],len(myHand)-1])\n",
    "                                myHand.pop(i)\n",
    "                            if heap == [3, 4] and myHand[i][1] == 2 and plus4 == False and changeColor == False:\n",
    "                                print(\"jaune\")\n",
    "                                myTurn = False\n",
    "                                send([f'{username}','placing',f'{currentRoom}',myHand[i],len(myHand)-1])\n",
    "                                myHand.pop(i)\n",
    "                            if heap == [4, 4] and myHand[i][1] == 3 and plus4 == False and changeColor == False:\n",
    "                                myTurn = False\n",
    "                                send([f'{username}','placing',f'{currentRoom}',myHand[i],len(myHand)-1])\n",
    "                                myHand.pop(i)\n",
    "                            if heap == [6, 4] and myHand[i][1] == 0 and plus4 == False and changeColor == False:\n",
    "                                myTurn = False\n",
    "                                send([f'{username}','placing',f'{currentRoom}',myHand[i],len(myHand)-1])\n",
    "                                myHand.pop(i)  \n",
    "                            if heap == [7, 4] and myHand[i][1] == 1 and plus4 == False and changeColor == False:\n",
    "                                myTurn = False\n",
    "                                send([f'{username}','placing',f'{currentRoom}',myHand[i],len(myHand)-1])\n",
    "                                myHand.pop(i)  \n",
    "                            if heap == [8, 4] and myHand[i][1] == 2 and plus4 == False and changeColor == False:\n",
    "                                myTurn = False\n",
    "                                send([f'{username}','placing',f'{currentRoom}',myHand[i],len(myHand)-1])\n",
    "                                myHand.pop(i)  \n",
    "                            if heap == [9, 4] and myHand[i][1] == 3 and plus4 == False and changeColor == False:\n",
    "                                myTurn = False\n",
    "                                send([f'{username}','placing',f'{currentRoom}',myHand[i],len(myHand)-1])\n",
    "                                myHand.pop(i)\n",
    "                            # This is temp, can place all card on a special card\n",
    "#                             elif heap[1] == 4:\n",
    "#                                 myTurn = False\n",
    "#                                 send([f'{username}','placing',f'{currentRoom}',myHand[i],len(myHand)-1])\n",
    "#                                 myHand.pop(i)\n",
    "                            else:\n",
    "                                notPlacable = True\n",
    "                            if len(myHand) == 0:\n",
    "                                send([f'{username}','winning',f'{currentRoom}'])\n",
    "                                break\n",
    "            if event.type == pygame.QUIT:\n",
    "                quitEvent()\n",
    "        pygame.display.update()"
   ]
  },
  {
   "cell_type": "markdown",
   "id": "57de9dcc",
   "metadata": {},
   "source": [
    "#### Pygame main menu"
   ]
  },
  {
   "cell_type": "code",
   "execution_count": 93,
   "id": "7303503a",
   "metadata": {
    "ExecuteTime": {
     "end_time": "2023-05-31T08:24:34.181579Z",
     "start_time": "2023-05-31T08:24:34.173173Z"
    }
   },
   "outputs": [],
   "source": [
    "def mainMenu():\n",
    "    global run\n",
    "    \n",
    "    abilityToClick = False\n",
    "\n",
    "    x, y = pygame.display.get_surface().get_size()\n",
    "    newGame = Button(x/2-((newGameBtn.get_width()/2)*1.5), y/4-((newGameBtn.get_height()/2)*1.5), newGameBtn, 1.5)\n",
    "    option = Button(x/2-((optionBtn.get_width()/2)*1.5), y/2-((optionBtn.get_height()/2)*1.5), optionBtn, 1.5)\n",
    "    quit = Button(x/2-((quitBtn.get_width()/2)*1.5), 3*y/4-((quitBtn.get_height()/2)*1.5), quitBtn, 1.5)\n",
    "\n",
    "    while run:\n",
    "        screen.fill((0, 0, 0))\n",
    "        if newGame.draw(screen) and abilityToClick:\n",
    "            abilityToClick = False\n",
    "            joinMenu()\n",
    "        if option.draw(screen) and abilityToClick:\n",
    "            abilityToClick = False\n",
    "            optionMenu()\n",
    "        if quit.draw(screen) and abilityToClick:\n",
    "            abilityToClick = False\n",
    "            run = False\n",
    "        abilityToClick = True\n",
    "        pygame.display.flip()\n",
    "        for event in pygame.event.get():\n",
    "            if event.type == pygame.QUIT:\n",
    "                run = False\n",
    "        pygame.display.update()\n",
    "    "
   ]
  },
  {
   "cell_type": "markdown",
   "id": "cf3beef0",
   "metadata": {},
   "source": [
    "#### Start listening on socket"
   ]
  },
  {
   "cell_type": "code",
   "execution_count": 94,
   "id": "fd20a155",
   "metadata": {
    "ExecuteTime": {
     "end_time": "2023-05-31T08:24:34.190090Z",
     "start_time": "2023-05-31T08:24:34.182588Z"
    }
   },
   "outputs": [
    {
     "data": {
      "text/plain": [
       "<Future at 0x1d12f7ddca0 state=pending>"
      ]
     },
     "execution_count": 94,
     "metadata": {},
     "output_type": "execute_result"
    }
   ],
   "source": [
    "new_loop = asyncio.new_event_loop()\n",
    "t = threading.Thread(target=start_loop, args=(new_loop,))\n",
    "t.start()\n",
    "\n",
    "asyncio.run_coroutine_threadsafe(socket(), new_loop)"
   ]
  },
  {
   "cell_type": "markdown",
   "id": "a7813e4b",
   "metadata": {},
   "source": [
    "#### Pygame main loop"
   ]
  },
  {
   "cell_type": "code",
   "execution_count": 95,
   "id": "4be30690",
   "metadata": {
    "ExecuteTime": {
     "end_time": "2023-05-31T08:54:59.588548Z",
     "start_time": "2023-05-31T08:24:34.192098Z"
    }
   },
   "outputs": [
    {
     "name": "stdout",
     "output_type": "stream",
     "text": [
      "['joinNow', 'T62M9']\n",
      "['setPlayers', 'as']\n",
      "['startNow', [5, 3], [[10, 3], [10, 3], [7, 0], [0, 2], [8, 3], [10, 0], [4, 0]], 'yourTurn']\n",
      "color\n",
      "Green\n",
      "['updateHeap', [4, 4], 'as', 1, 'yourTurn']\n",
      "ICHI\n",
      "Counter ICHI\n"
     ]
    },
    {
     "ename": "error",
     "evalue": "video system not initialized",
     "output_type": "error",
     "traceback": [
      "\u001b[1;31m---------------------------------------------------------------------------\u001b[0m",
      "\u001b[1;31merror\u001b[0m                                     Traceback (most recent call last)",
      "\u001b[1;32m~\\AppData\\Local\\Temp\\ipykernel_3504\\4244392338.py\u001b[0m in \u001b[0;36m<module>\u001b[1;34m\u001b[0m\n\u001b[0;32m      3\u001b[0m     \u001b[0mscreen\u001b[0m\u001b[1;33m.\u001b[0m\u001b[0mfill\u001b[0m\u001b[1;33m(\u001b[0m\u001b[1;33m(\u001b[0m\u001b[1;36m0\u001b[0m\u001b[1;33m,\u001b[0m \u001b[1;36m0\u001b[0m\u001b[1;33m,\u001b[0m \u001b[1;36m0\u001b[0m\u001b[1;33m)\u001b[0m\u001b[1;33m)\u001b[0m\u001b[1;33m\u001b[0m\u001b[1;33m\u001b[0m\u001b[0m\n\u001b[0;32m      4\u001b[0m \u001b[1;33m\u001b[0m\u001b[0m\n\u001b[1;32m----> 5\u001b[1;33m     \u001b[0mmainMenu\u001b[0m\u001b[1;33m(\u001b[0m\u001b[1;33m)\u001b[0m\u001b[1;33m\u001b[0m\u001b[1;33m\u001b[0m\u001b[0m\n\u001b[0m\u001b[0;32m      6\u001b[0m \u001b[1;33m\u001b[0m\u001b[0m\n\u001b[0;32m      7\u001b[0m     \u001b[0mpygame\u001b[0m\u001b[1;33m.\u001b[0m\u001b[0mdisplay\u001b[0m\u001b[1;33m.\u001b[0m\u001b[0mflip\u001b[0m\u001b[1;33m(\u001b[0m\u001b[1;33m)\u001b[0m\u001b[1;33m\u001b[0m\u001b[1;33m\u001b[0m\u001b[0m\n",
      "\u001b[1;32m~\\AppData\\Local\\Temp\\ipykernel_3504\\2143147257.py\u001b[0m in \u001b[0;36mmainMenu\u001b[1;34m()\u001b[0m\n\u001b[0;32m     13\u001b[0m         \u001b[1;32mif\u001b[0m \u001b[0mnewGame\u001b[0m\u001b[1;33m.\u001b[0m\u001b[0mdraw\u001b[0m\u001b[1;33m(\u001b[0m\u001b[0mscreen\u001b[0m\u001b[1;33m)\u001b[0m \u001b[1;32mand\u001b[0m \u001b[0mabilityToClick\u001b[0m\u001b[1;33m:\u001b[0m\u001b[1;33m\u001b[0m\u001b[1;33m\u001b[0m\u001b[0m\n\u001b[0;32m     14\u001b[0m             \u001b[0mabilityToClick\u001b[0m \u001b[1;33m=\u001b[0m \u001b[1;32mFalse\u001b[0m\u001b[1;33m\u001b[0m\u001b[1;33m\u001b[0m\u001b[0m\n\u001b[1;32m---> 15\u001b[1;33m             \u001b[0mjoinMenu\u001b[0m\u001b[1;33m(\u001b[0m\u001b[1;33m)\u001b[0m\u001b[1;33m\u001b[0m\u001b[1;33m\u001b[0m\u001b[0m\n\u001b[0m\u001b[0;32m     16\u001b[0m         \u001b[1;32mif\u001b[0m \u001b[0moption\u001b[0m\u001b[1;33m.\u001b[0m\u001b[0mdraw\u001b[0m\u001b[1;33m(\u001b[0m\u001b[0mscreen\u001b[0m\u001b[1;33m)\u001b[0m \u001b[1;32mand\u001b[0m \u001b[0mabilityToClick\u001b[0m\u001b[1;33m:\u001b[0m\u001b[1;33m\u001b[0m\u001b[1;33m\u001b[0m\u001b[0m\n\u001b[0;32m     17\u001b[0m             \u001b[0mabilityToClick\u001b[0m \u001b[1;33m=\u001b[0m \u001b[1;32mFalse\u001b[0m\u001b[1;33m\u001b[0m\u001b[1;33m\u001b[0m\u001b[0m\n",
      "\u001b[1;32m~\\AppData\\Local\\Temp\\ipykernel_3504\\2513206654.py\u001b[0m in \u001b[0;36mjoinMenu\u001b[1;34m()\u001b[0m\n\u001b[0;32m     92\u001b[0m                         \u001b[0mcurrentRoom\u001b[0m \u001b[1;33m=\u001b[0m \u001b[0mcurrentMessage\u001b[0m\u001b[1;33m[\u001b[0m\u001b[1;36m1\u001b[0m\u001b[1;33m]\u001b[0m\u001b[1;33m\u001b[0m\u001b[1;33m\u001b[0m\u001b[0m\n\u001b[0;32m     93\u001b[0m                         \u001b[0merrorMessage\u001b[0m \u001b[1;33m=\u001b[0m \u001b[1;34m\"\"\u001b[0m\u001b[1;33m\u001b[0m\u001b[1;33m\u001b[0m\u001b[0m\n\u001b[1;32m---> 94\u001b[1;33m                         \u001b[0mlobbyMenu\u001b[0m\u001b[1;33m(\u001b[0m\u001b[1;33m)\u001b[0m\u001b[1;33m\u001b[0m\u001b[1;33m\u001b[0m\u001b[0m\n\u001b[0m\u001b[0;32m     95\u001b[0m                         \u001b[1;32mbreak\u001b[0m\u001b[1;33m\u001b[0m\u001b[1;33m\u001b[0m\u001b[0m\n\u001b[0;32m     96\u001b[0m                 \u001b[0mcurrentMessage\u001b[0m \u001b[1;33m=\u001b[0m \u001b[1;33m[\u001b[0m\u001b[1;34m\"none\"\u001b[0m\u001b[1;33m,\u001b[0m\u001b[1;34m\"none\"\u001b[0m\u001b[1;33m,\u001b[0m\u001b[1;34m\"none\"\u001b[0m\u001b[1;33m]\u001b[0m\u001b[1;33m\u001b[0m\u001b[1;33m\u001b[0m\u001b[0m\n",
      "\u001b[1;32m~\\AppData\\Local\\Temp\\ipykernel_3504\\440093818.py\u001b[0m in \u001b[0;36mlobbyMenu\u001b[1;34m()\u001b[0m\n\u001b[0;32m     41\u001b[0m             \u001b[0mmyHand\u001b[0m \u001b[1;33m=\u001b[0m \u001b[1;33m[\u001b[0m\u001b[1;33m[\u001b[0m\u001b[1;36m0\u001b[0m\u001b[1;33m,\u001b[0m\u001b[1;36m4\u001b[0m\u001b[1;33m]\u001b[0m\u001b[1;33m,\u001b[0m\u001b[1;33m[\u001b[0m\u001b[1;36m1\u001b[0m\u001b[1;33m,\u001b[0m\u001b[1;36m0\u001b[0m\u001b[1;33m]\u001b[0m\u001b[1;33m]\u001b[0m  \u001b[1;31m# à la place de ça -> currentMessage[2]\u001b[0m\u001b[1;33m\u001b[0m\u001b[1;33m\u001b[0m\u001b[0m\n\u001b[0;32m     42\u001b[0m             \u001b[0mheap\u001b[0m \u001b[1;33m=\u001b[0m \u001b[0mcurrentMessage\u001b[0m\u001b[1;33m[\u001b[0m\u001b[1;36m1\u001b[0m\u001b[1;33m]\u001b[0m\u001b[1;33m\u001b[0m\u001b[1;33m\u001b[0m\u001b[0m\n\u001b[1;32m---> 43\u001b[1;33m             \u001b[0mgameTable\u001b[0m\u001b[1;33m(\u001b[0m\u001b[1;33m)\u001b[0m\u001b[1;33m\u001b[0m\u001b[1;33m\u001b[0m\u001b[0m\n\u001b[0m\u001b[0;32m     44\u001b[0m             \u001b[0mcurrentMessage\u001b[0m \u001b[1;33m=\u001b[0m \u001b[1;33m[\u001b[0m\u001b[1;34m\"none\"\u001b[0m\u001b[1;33m,\u001b[0m\u001b[1;34m\"none\"\u001b[0m\u001b[1;33m,\u001b[0m\u001b[1;34m\"none\"\u001b[0m\u001b[1;33m]\u001b[0m\u001b[1;33m\u001b[0m\u001b[1;33m\u001b[0m\u001b[0m\n\u001b[0;32m     45\u001b[0m         \u001b[1;32mif\u001b[0m \u001b[0mcurrentMessage\u001b[0m\u001b[1;33m[\u001b[0m\u001b[1;36m0\u001b[0m\u001b[1;33m]\u001b[0m \u001b[1;33m==\u001b[0m \u001b[1;34m\"notAValidNumberOfPerson\"\u001b[0m\u001b[1;33m:\u001b[0m\u001b[1;33m\u001b[0m\u001b[1;33m\u001b[0m\u001b[0m\n",
      "\u001b[1;32m~\\AppData\\Local\\Temp\\ipykernel_3504\\1564719963.py\u001b[0m in \u001b[0;36mgameTable\u001b[1;34m()\u001b[0m\n\u001b[0;32m    303\u001b[0m             \u001b[1;32mif\u001b[0m \u001b[0mevent\u001b[0m\u001b[1;33m.\u001b[0m\u001b[0mtype\u001b[0m \u001b[1;33m==\u001b[0m \u001b[0mpygame\u001b[0m\u001b[1;33m.\u001b[0m\u001b[0mQUIT\u001b[0m\u001b[1;33m:\u001b[0m\u001b[1;33m\u001b[0m\u001b[1;33m\u001b[0m\u001b[0m\n\u001b[0;32m    304\u001b[0m                 \u001b[0mquitEvent\u001b[0m\u001b[1;33m(\u001b[0m\u001b[1;33m)\u001b[0m\u001b[1;33m\u001b[0m\u001b[1;33m\u001b[0m\u001b[0m\n\u001b[1;32m--> 305\u001b[1;33m         \u001b[0mpygame\u001b[0m\u001b[1;33m.\u001b[0m\u001b[0mdisplay\u001b[0m\u001b[1;33m.\u001b[0m\u001b[0mupdate\u001b[0m\u001b[1;33m(\u001b[0m\u001b[1;33m)\u001b[0m\u001b[1;33m\u001b[0m\u001b[1;33m\u001b[0m\u001b[0m\n\u001b[0m",
      "\u001b[1;31merror\u001b[0m: video system not initialized"
     ]
    }
   ],
   "source": [
    "while run:\n",
    "\n",
    "    screen.fill((0, 0, 0))\n",
    "\n",
    "    mainMenu()\n",
    "\n",
    "    pygame.display.flip()\n",
    "    \n",
    "    for event in pygame.event.get():\n",
    "        if event.type == pygame.QUIT:\n",
    "            run = False\n",
    "\n",
    "    pygame.display.update()\n",
    "\n",
    "quitEvent()"
   ]
  }
 ],
 "metadata": {
  "kernelspec": {
   "display_name": "Python 3 (ipykernel)",
   "language": "python",
   "name": "python3"
  },
  "language_info": {
   "codemirror_mode": {
    "name": "ipython",
    "version": 3
   },
   "file_extension": ".py",
   "mimetype": "text/x-python",
   "name": "python",
   "nbconvert_exporter": "python",
   "pygments_lexer": "ipython3",
   "version": "3.9.16"
  }
 },
 "nbformat": 4,
 "nbformat_minor": 5
}
