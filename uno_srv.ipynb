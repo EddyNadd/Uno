{
 "cells": [
  {
   "cell_type": "code",
   "execution_count": 1,
   "id": "1678eaa4",
   "metadata": {
    "ExecuteTime": {
     "end_time": "2023-05-10T10:16:12.651120Z",
     "start_time": "2023-05-10T10:16:12.608339Z"
    }
   },
   "outputs": [],
   "source": [
    "# https://www.youtube.com/watch?v=3QiPPX-KeSc\n",
    "\n",
    "import socket\n",
    "import threading\n",
    "import random\n",
    "import string\n",
    "import time\n",
    "\n",
    "HEADER = 64\n",
    "PORT = 8080\n",
    "SERVER = \"0.0.0.0\"\n",
    "ADDR = (SERVER, PORT)\n",
    "FORMAT = 'utf-8'\n",
    "DISCONNECT_MESSAGE = \"!DISCONNECT\"\n",
    "\n",
    "server = socket.socket(socket.AF_INET, socket.SOCK_STREAM)\n",
    "server.bind(ADDR)\n",
    "\n",
    "connections = []\n",
    "rooms = []\n",
    "stack = [[0,0], [1,0], [1,0], [2,0], [2,0], [3,0], [3,0], [4,0], [4,0], [5,0], [5,0], [6,0], [6,0], [7,0], [7,0], [8,0], [8,0], [9,0], [9,0], [10,0], [10,0], [11,0], [11,0], [12,0], [12,0], \n",
    "             [0,1], [1,1], [1,1], [2,1], [2,1], [3,1], [3,1], [4,1], [4,1], [5,1], [5,1], [6,1], [6,1], [7,1], [7,1], [8,1], [8,1], [9,1], [9,1], [10,1], [10,1], [11,1], [11,1], [12,1], [12,1], \n",
    "             [0,2], [1,2], [1,2], [2,2], [2,2], [3,2], [3,2], [4,2], [4,2], [5,2], [5,2], [6,2], [6,2], [7,2], [7,2], [8,2], [8,2], [9,2], [9,2], [10,2], [10,2], [11,2], [11,2], [12,2], [12,2], \n",
    "             [0,3], [1,3], [1,3], [2,3], [2,3], [3,3], [3,3], [4,3], [4,3], [5,3], [5,3], [6,3], [6,3], [7,3], [7,3], [8,3], [8,3], [9,3], [9,3], [10,3], [10,3], [11,3], [11,3], [12,3], [12,3], \n",
    "             [0,4], [0,4], [0,4], [0,4], [5,4], [5,4], [5,4], [5,4]]\n",
    "stackByRoom = []\n",
    "heapByRoom = []"
   ]
  },
  {
   "cell_type": "code",
   "execution_count": 2,
   "id": "9f267a93",
   "metadata": {
    "ExecuteTime": {
     "end_time": "2023-05-10T10:16:12.728982Z",
     "start_time": "2023-05-10T10:16:12.656582Z"
    }
   },
   "outputs": [],
   "source": [
    "def handle_client(conn, addr):\n",
    "    connections.append(conn)\n",
    "    print(f\"[INFO] New connection, {addr} connected.\")\n",
    "    connected = True\n",
    "    while connected:\n",
    "        msg_lenght = conn.recv(HEADER).decode(FORMAT)\n",
    "        if msg_lenght:\n",
    "            msg_lenght = int(msg_lenght)\n",
    "            msg = conn.recv(msg_lenght).decode(FORMAT)\n",
    "            if msg == DISCONNECT_MESSAGE:\n",
    "                connected = False\n",
    "                print(f\"[INFO] A client disconnected\")\n",
    "                print(f\"[ACTIVE CONNECTION] {threading.activeCount() - 9 }\")\n",
    "                currentRoom = \"\"\n",
    "                currentUsername = \"\"\n",
    "                for r in rooms:\n",
    "                    if r[0] == conn:\n",
    "                        currentRoom = r[1]\n",
    "                        currentUsername = r[2]\n",
    "                for r in rooms:\n",
    "                    if r[1] == currentRoom:\n",
    "                        if r[0] == conn:\n",
    "                            print(f\"[{addr}] {currentUsername} has been diconnected from room {currentRoom}.\")\n",
    "                            rooms.remove(r)\n",
    "                counter = 0\n",
    "                for r in rooms:\n",
    "                    if r[1] == currentRoom:\n",
    "                        counter = counter + 1\n",
    "                if counter > 0:\n",
    "                    print(f\"[INFO] Sending to players in room {currentRoom} updated player list.\")\n",
    "                    messageToSend = f\"setPlayers\"\n",
    "                    for r in rooms:\n",
    "                        if r[1] == currentRoom:\n",
    "                            messageToSend = messageToSend + \",\" + str(r[2])\n",
    "                    for r in rooms:\n",
    "                        if r[1] == currentRoom and r[0] != conn:\n",
    "                            r[0].send(messageToSend.encode(FORMAT))\n",
    "            else:\n",
    "                myMessage = msg.split(\",\")\n",
    "                if myMessage[1] == \"createRoom\":\n",
    "                    randomRoomNum = random.choice(string.ascii_uppercase + string.digits) + random.choice(string.ascii_uppercase + string.digits) + random.choice(string.ascii_uppercase + string.digits) + random.choice(string.ascii_uppercase + string.digits) + random.choice(string.ascii_uppercase + string.digits)\n",
    "                    messageToSend = f\"joinNow,{randomRoomNum}\"\n",
    "                    rooms.append([conn, randomRoomNum, myMessage[0]])\n",
    "                    print(f\"[{addr}] {myMessage[0]} created room number {randomRoomNum}\")\n",
    "                    conn.send(messageToSend.encode(FORMAT))\n",
    "                if myMessage[1] == \"joinRoom\":\n",
    "                    counter = 0\n",
    "                    for r in rooms:\n",
    "                        if r[1] == myMessage[2]:\n",
    "                            counter = counter + 1\n",
    "                            if r[0] == conn:\n",
    "                                print(f\"[{addr}] {myMessage[0]} was already in room number {myMessage[2]}. He has been diconnected.\")\n",
    "                                rooms.remove(r)\n",
    "                    if counter != 0 and counter < 4:\n",
    "                        rooms.append([conn, myMessage[2], myMessage[0]])\n",
    "                        print(f\"[{addr}] {myMessage[0]} joined room number {myMessage[2]}. Sending update...\")\n",
    "                        messageToSend = f\"joinNow,{myMessage[2]}\"\n",
    "                        conn.send(messageToSend.encode(FORMAT))\n",
    "                        messageToSend = f\"setPlayers\"\n",
    "                        for r in rooms:\n",
    "                            if r[1] == myMessage[2]:\n",
    "                                messageToSend = messageToSend + \",\" + str(r[2])\n",
    "                        for r in rooms:\n",
    "                            if r[1] == myMessage[2] and r[0] != conn:\n",
    "                                r[0].send(messageToSend.encode(FORMAT))\n",
    "                    else:\n",
    "                        messageToSend = f\"error,roomCodeNotValid\"\n",
    "                        conn.send(messageToSend.encode(FORMAT))\n",
    "                        print(f\"[{addr}] {myMessage[0]} tried to join room number {myMessage[2]}, but room doesn't exist or is full.\")\n",
    "                if myMessage[1] == \"getPlayers\":\n",
    "                    print(f\"[INFO] {myMessage[0]} want players in room {myMessage[2]}.\")\n",
    "                    messageToSend = f\"setPlayers\"\n",
    "                    for r in rooms:\n",
    "                        if r[1] == myMessage[2]:\n",
    "                            messageToSend = messageToSend + \",\" + str(r[2])\n",
    "                    conn.send(messageToSend.encode(FORMAT))\n",
    "                if myMessage[1] == \"quitRoom\":\n",
    "                    for r in rooms:\n",
    "                        if r[1] == myMessage[2]:\n",
    "                            if r[0] == conn:\n",
    "                                print(f\"[{addr}] {myMessage[0]} has been diconnected from room {myMessage[2]}.\")\n",
    "                                rooms.remove(r)\n",
    "                    counter = 0\n",
    "                    for r in rooms:\n",
    "                        if r[1] == myMessage[2]:\n",
    "                            counter = counter + 1\n",
    "                    if counter > 0:\n",
    "                        print(f\"[INFO] Sending to players in room {myMessage[2]} updated player list.\")\n",
    "                        messageToSend = f\"setPlayers\"\n",
    "                        for r in rooms:\n",
    "                            if r[1] == myMessage[2]:\n",
    "                                messageToSend = messageToSend + \",\" + str(r[2])\n",
    "                        for r in rooms:\n",
    "                            if r[1] == myMessage[2] and r[0] != conn:\n",
    "                                r[0].send(messageToSend.encode(FORMAT))\n",
    "               \tif myMessage[1] == \"startGame\":\n",
    "                    counter = 0\n",
    "                    for r in rooms:\n",
    "                        if r[1] == myMessage[2]:\n",
    "                            counter = counter + 1\n",
    "                    if counter < 0:\n",
    "                        messageToSend = f\"error,notAValidNumberOfPerson\"\n",
    "                        print(f\"[INFO] {myMessage[0]} wanted to start room {myMessage[2]}, but there wasn't enough players.\")\n",
    "                        conn.send(messageToSend.encode(FORMAT))\n",
    "                    else:\n",
    "                        tempStack = stack\n",
    "                        random.shuffle(tempStack)\n",
    "                        stackByRoom = [myMessage[2],tempStack]\n",
    "                        counter = 0\n",
    "                        hands = []\n",
    "                        for r in rooms:\n",
    "                            if r[1] == myMessage[2]:\n",
    "                                counter = counter + 1\n",
    "                        for c in range(0, counter):\n",
    "                            tmpList = []\n",
    "                            for i in range(0, 7):\n",
    "                                tmpList.append(stackByRoom[1].pop(0))\n",
    "                            hands.append(tmpList)\n",
    "                        while ((stackByRoom[1][0][1] == 4) | (stackByRoom[1][0][0] in range(10, 13))) : \n",
    "                            random.shuffle(stackByRoom[1])\n",
    "                        heapByRoom = stackByRoom[1].pop(0)\n",
    "                        print(f\"[INFO] {myMessage[0]} started room {myMessage[2]}.\")\n",
    "                        counter = 0\n",
    "                        for r in rooms:\n",
    "                            if r[1] == myMessage[2]:\n",
    "                                messageToSend = f\"startNow\"\n",
    "                                messageToSend = messageToSend + \",\" + str(heapByRoom) + \",\" + str(hands[counter])\n",
    "                                counter = counter + 1\n",
    "                                r[0].send(messageToSend.encode(FORMAT))\n",
    "                #conn.send(msg.encode(FORMAT))\n",
    "                # Pour envoyer a tous les clients\n",
    "                #for connClient in connections:\n",
    "                    #connClient.send(msg.encode(FORMAT))\n",
    "    conn.close()\n",
    "    connections.remove(conn)"
   ]
  },
  {
   "cell_type": "code",
   "execution_count": 3,
   "id": "6481e669",
   "metadata": {
    "ExecuteTime": {
     "end_time": "2023-05-10T10:16:12.760285Z",
     "start_time": "2023-05-10T10:16:12.734975Z"
    }
   },
   "outputs": [
    {
     "name": "stdout",
     "output_type": "stream",
     "text": [
      "[STARTING] le serveur démarre\n"
     ]
    }
   ],
   "source": [
    "def start():\n",
    "    server.listen()\n",
    "    print(f\"[LISTENING] Server is listening on {SERVER}\")\n",
    "    while True:\n",
    "        conn, addr = server.accept()\n",
    "        thread = threading.Thread(target=handle_client, args=(conn, addr))\n",
    "        thread.start()\n",
    "        print(f\"[ACTIVE CONNECTION] {threading.activeCount() - 8 }\")\n",
    "print(\"[STARTING] le serveur démarre\")"
   ]
  },
  {
   "cell_type": "code",
   "execution_count": null,
   "id": "051b3f55",
   "metadata": {
    "ExecuteTime": {
     "start_time": "2023-05-10T10:16:12.609Z"
    }
   },
   "outputs": [
    {
     "name": "stdout",
     "output_type": "stream",
     "text": [
      "[LISTENING] Server is listening on 0.0.0.0\n",
      "[INFO] New connection, ('127.0.0.1', 51484) connected.\n",
      "[ACTIVE CONNECTION] -1\n",
      "[('127.0.0.1', 51484)] awdsd created room number I5RWT\n"
     ]
    },
    {
     "name": "stderr",
     "output_type": "stream",
     "text": [
      "Exception in thread Thread-5:\n",
      "Traceback (most recent call last):\n",
      "  File \"C:\\Users\\Eddy\\anaconda3\\lib\\threading.py\", line 980, in _bootstrap_inner\n",
      "    self.run()\n",
      "  File \"C:\\Users\\Eddy\\anaconda3\\lib\\threading.py\", line 917, in run\n",
      "    self._target(*self._args, **self._kwargs)\n",
      "  File \"C:\\Users\\Eddy\\AppData\\Local\\Temp\\ipykernel_17808\\4261884243.py\", line 6, in handle_client\n",
      "ConnectionResetError: [WinError 10054] Une connexion existante a dû être fermée par l’hôte distant\n"
     ]
    },
    {
     "name": "stdout",
     "output_type": "stream",
     "text": [
      "[INFO] New connection, ('127.0.0.1', 51512) connected.\n",
      "[ACTIVE CONNECTION] -1\n",
      "[('127.0.0.1', 51512)] awdasdw created room number K86HX\n"
     ]
    },
    {
     "name": "stderr",
     "output_type": "stream",
     "text": [
      "Exception in thread Thread-6:\n",
      "Traceback (most recent call last):\n",
      "  File \"C:\\Users\\Eddy\\anaconda3\\lib\\threading.py\", line 980, in _bootstrap_inner\n",
      "    self.run()\n",
      "  File \"C:\\Users\\Eddy\\anaconda3\\lib\\threading.py\", line 917, in run\n",
      "    self._target(*self._args, **self._kwargs)\n",
      "  File \"C:\\Users\\Eddy\\AppData\\Local\\Temp\\ipykernel_17808\\4261884243.py\", line 6, in handle_client\n",
      "ConnectionResetError: [WinError 10054] Une connexion existante a dû être fermée par l’hôte distant\n"
     ]
    },
    {
     "name": "stdout",
     "output_type": "stream",
     "text": [
      "[INFO] New connection, ('127.0.0.1', 51542) connected.[ACTIVE CONNECTION] -1\n",
      "\n",
      "[('127.0.0.1', 51542)] <sccysed created room number H4RB1\n"
     ]
    },
    {
     "name": "stderr",
     "output_type": "stream",
     "text": [
      "Exception in thread Thread-7:\n",
      "Traceback (most recent call last):\n",
      "  File \"C:\\Users\\Eddy\\anaconda3\\lib\\threading.py\", line 980, in _bootstrap_inner\n",
      "    self.run()\n",
      "  File \"C:\\Users\\Eddy\\anaconda3\\lib\\threading.py\", line 917, in run\n",
      "    self._target(*self._args, **self._kwargs)\n",
      "  File \"C:\\Users\\Eddy\\AppData\\Local\\Temp\\ipykernel_17808\\4261884243.py\", line 6, in handle_client\n",
      "ConnectionResetError: [WinError 10054] Une connexion existante a dû être fermée par l’hôte distant\n"
     ]
    },
    {
     "name": "stdout",
     "output_type": "stream",
     "text": [
      "[INFO] New connection, ('127.0.0.1', 51566) connected.[ACTIVE CONNECTION] -1\n",
      "\n",
      "[('127.0.0.1', 51566)] awdawd created room number O22TP\n",
      "[INFO] awdawd want players in room O22TP.\n",
      "[('127.0.0.1', 51566)] awdawd has been diconnected from room O22TP.\n",
      "[('127.0.0.1', 51566)] awdawd created room number D5P5L\n"
     ]
    },
    {
     "name": "stderr",
     "output_type": "stream",
     "text": [
      "Exception in thread Thread-8:\n",
      "Traceback (most recent call last):\n",
      "  File \"C:\\Users\\Eddy\\anaconda3\\lib\\threading.py\", line 980, in _bootstrap_inner\n",
      "    self.run()\n",
      "  File \"C:\\Users\\Eddy\\anaconda3\\lib\\threading.py\", line 917, in run\n",
      "    self._target(*self._args, **self._kwargs)\n",
      "  File \"C:\\Users\\Eddy\\AppData\\Local\\Temp\\ipykernel_17808\\4261884243.py\", line 6, in handle_client\n",
      "ConnectionResetError: [WinError 10054] Une connexion existante a dû être fermée par l’hôte distant\n"
     ]
    },
    {
     "name": "stdout",
     "output_type": "stream",
     "text": [
      "[INFO] New connection, ('127.0.0.1', 51589) connected.\n",
      "[ACTIVE CONNECTION] -1\n",
      "[('127.0.0.1', 51589)] awdawd created room number SX5NY\n",
      "[INFO] awdawd want players in room SX5NY.\n"
     ]
    }
   ],
   "source": [
    "start()"
   ]
  }
 ],
 "metadata": {
  "kernelspec": {
   "display_name": "Python 3 (ipykernel)",
   "language": "python",
   "name": "python3"
  },
  "language_info": {
   "codemirror_mode": {
    "name": "ipython",
    "version": 3
   },
   "file_extension": ".py",
   "mimetype": "text/x-python",
   "name": "python",
   "nbconvert_exporter": "python",
   "pygments_lexer": "ipython3",
   "version": "3.9.13"
  }
 },
 "nbformat": 4,
 "nbformat_minor": 5
}
