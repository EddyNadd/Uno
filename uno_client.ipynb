{
 "cells": [
  {
   "cell_type": "markdown",
   "id": "199e1ad4",
   "metadata": {},
   "source": [
    "# Uno multiplayer"
   ]
  },
  {
   "cell_type": "markdown",
   "id": "fb612cb5",
   "metadata": {},
   "source": [
    "#### Import all library"
   ]
  },
  {
   "cell_type": "code",
   "execution_count": 1,
   "id": "19c7f150",
   "metadata": {
    "ExecuteTime": {
     "end_time": "2023-05-10T07:02:28.122084Z",
     "start_time": "2023-05-10T07:02:27.925043Z"
    }
   },
   "outputs": [
    {
     "name": "stdout",
     "output_type": "stream",
     "text": [
      "pygame 2.3.0 (SDL 2.24.2, Python 3.9.13)\n",
      "Hello from the pygame community. https://www.pygame.org/contribute.html\n"
     ]
    }
   ],
   "source": [
    "import pygame\n",
    "import socket\n",
    "import time\n",
    "import asyncio\n",
    "import threading"
   ]
  },
  {
   "cell_type": "markdown",
   "id": "ff47e8fb",
   "metadata": {},
   "source": [
    "#### Button class\n",
    "\n",
    "Taken at :\n",
    "https://github.com/russs123/pygame_tutorials/blob/main/Button/button.py\n",
    "\n",
    "By russs123 : \n",
    "https://github.com/russs123"
   ]
  },
  {
   "cell_type": "code",
   "execution_count": 2,
   "id": "05f636da",
   "metadata": {
    "ExecuteTime": {
     "end_time": "2023-05-10T07:02:28.138058Z",
     "start_time": "2023-05-10T07:02:28.124034Z"
    }
   },
   "outputs": [],
   "source": [
    "class Button():\n",
    "    def __init__(self, x, y, image, scale):\n",
    "        width = image.get_width()\n",
    "        height = image.get_height()\n",
    "        self.image = pygame.transform.scale(image, (int(width * scale), int(height * scale)))\n",
    "        self.rect = self.image.get_rect()\n",
    "        self.rect.topleft = (x, y)\n",
    "        self.clicked = False\n",
    "\n",
    "    def draw(self, surface):\n",
    "        action = False\n",
    "        #get mouse position\n",
    "        pos = pygame.mouse.get_pos()\n",
    "\n",
    "        #check mouseover and clicked conditions\n",
    "        if self.rect.collidepoint(pos):\n",
    "            if pygame.mouse.get_pressed()[0] == 1 and self.clicked == False:\n",
    "                self.clicked = True\n",
    "                action = True\n",
    "\n",
    "        if pygame.mouse.get_pressed()[0] == 0:\n",
    "            self.clicked = False\n",
    "\n",
    "        #draw button on screen\n",
    "        surface.blit(self.image, (self.rect.x, self.rect.y))\n",
    "\n",
    "        return action"
   ]
  },
  {
   "cell_type": "markdown",
   "id": "ba0536a8",
   "metadata": {},
   "source": [
    "#### Pygame initialisation"
   ]
  },
  {
   "cell_type": "code",
   "execution_count": 3,
   "id": "93ad3d2f",
   "metadata": {
    "ExecuteTime": {
     "end_time": "2023-05-10T07:02:28.439634Z",
     "start_time": "2023-05-10T07:02:28.140025Z"
    }
   },
   "outputs": [],
   "source": [
    "pygame.init()\n",
    "screen = pygame.display.set_mode((1000,500)) #,pygame.FULLSCREEN\n",
    "clock = pygame.time.Clock()\n",
    "run = True\n",
    "baseFont = pygame.font.Font(None,32)\n",
    "pygame.display.set_caption('Uno multiplayer')"
   ]
  },
  {
   "cell_type": "markdown",
   "id": "6e85c971",
   "metadata": {},
   "source": [
    "#### Pygame quit event"
   ]
  },
  {
   "cell_type": "code",
   "execution_count": 4,
   "id": "85f343b1",
   "metadata": {
    "ExecuteTime": {
     "end_time": "2023-05-10T07:02:28.443867Z",
     "start_time": "2023-05-10T07:02:28.440869Z"
    }
   },
   "outputs": [],
   "source": [
    "def quitEvent():\n",
    "    run = False\n",
    "    send(DISCONNECT_MESSAGE)\n",
    "    pygame.quit()"
   ]
  },
  {
   "cell_type": "markdown",
   "id": "3d63cfbe",
   "metadata": {},
   "source": [
    "#### Socket and var initialisation"
   ]
  },
  {
   "cell_type": "code",
   "execution_count": 5,
   "id": "9d604ea7",
   "metadata": {
    "ExecuteTime": {
     "end_time": "2023-05-10T07:02:28.453013Z",
     "start_time": "2023-05-10T07:02:28.446483Z"
    }
   },
   "outputs": [],
   "source": [
    "HEADER = 64\n",
    "PORT = 8080\n",
    "SERVER = \"localhost\"\n",
    "FORMAT = 'utf-8'\n",
    "DISCONNECT_MESSAGE = \"!DISCONNECT\"\n",
    "ADDR = (SERVER, PORT)\n",
    "client = socket.socket(socket.AF_INET, socket.SOCK_STREAM)\n",
    "client.connect(ADDR)\n",
    "connected = True\n",
    "currentMessage = [\"none\",\"none\",\"none\"]\n",
    "currentRoom = \"\"\n",
    "username = \"\"\n",
    "players = []"
   ]
  },
  {
   "cell_type": "markdown",
   "id": "6d365fa6",
   "metadata": {},
   "source": [
    "#### Socket loop"
   ]
  },
  {
   "cell_type": "code",
   "execution_count": 6,
   "id": "a8fc1f0e",
   "metadata": {
    "ExecuteTime": {
     "end_time": "2023-05-10T07:02:28.458012Z",
     "start_time": "2023-05-10T07:02:28.455026Z"
    }
   },
   "outputs": [],
   "source": [
    "def start_loop(loop):\n",
    "    asyncio.set_event_loop(loop)\n",
    "    loop.run_forever()"
   ]
  },
  {
   "cell_type": "markdown",
   "id": "09b951db",
   "metadata": {},
   "source": [
    "#### Socket get message"
   ]
  },
  {
   "cell_type": "code",
   "execution_count": 7,
   "id": "cd3019fd",
   "metadata": {
    "ExecuteTime": {
     "end_time": "2023-05-10T07:02:28.464578Z",
     "start_time": "2023-05-10T07:02:28.459517Z"
    }
   },
   "outputs": [],
   "source": [
    "async def socket():\n",
    "    global currentMessage\n",
    "    global run\n",
    "    while run:\n",
    "        message = client.recv(512).decode(FORMAT)\n",
    "        currentMessage = message.split(',')"
   ]
  },
  {
   "cell_type": "markdown",
   "id": "44fec68c",
   "metadata": {},
   "source": [
    "#### Send function"
   ]
  },
  {
   "cell_type": "code",
   "execution_count": 8,
   "id": "ff28615c",
   "metadata": {
    "ExecuteTime": {
     "end_time": "2023-05-10T07:02:28.472498Z",
     "start_time": "2023-05-10T07:02:28.466528Z"
    }
   },
   "outputs": [],
   "source": [
    "def send(msg):\n",
    "    message = msg.encode(FORMAT)\n",
    "    msg_lenght = len(message)\n",
    "    send_lenght = str(msg_lenght).encode(FORMAT)\n",
    "    send_lenght += b' ' * (HEADER - len(send_lenght))\n",
    "    client.send(send_lenght)\n",
    "    client.send(message)"
   ]
  },
  {
   "cell_type": "markdown",
   "id": "8a667e32",
   "metadata": {},
   "source": [
    "#### Load assets"
   ]
  },
  {
   "cell_type": "code",
   "execution_count": 9,
   "id": "412028fe",
   "metadata": {
    "ExecuteTime": {
     "end_time": "2023-05-10T07:02:28.482993Z",
     "start_time": "2023-05-10T07:02:28.474461Z"
    }
   },
   "outputs": [],
   "source": [
    "newGameBtn = pygame.image.load('./assets/Buttons/Red/New Game 192x48.png').convert_alpha()\n",
    "optionBtn = pygame.image.load('./assets/Buttons/Red/Options 192x48.png').convert_alpha()\n",
    "quitBtn = pygame.image.load('./assets/Buttons/Red/Quit 192x48.png').convert_alpha()\n",
    "exitBtn = pygame.image.load('./assets/Buttons/Red/Exit 192x48.png').convert_alpha()\n",
    "audioBtn = pygame.image.load('./assets/Buttons/Red/Audio 192x48.png').convert_alpha()\n",
    "newBtn = pygame.image.load('./assets/Buttons/Red/New 192x48.png').convert_alpha()\n",
    "joinBtn = pygame.image.load('./assets/Buttons/Red/Load Game 192x48.png').convert_alpha()\n",
    "quitGameBtn = pygame.image.load('./assets/Buttons/Red/Quit Game 192x48.png').convert_alpha()\n",
    "startGameBtn = pygame.image.load('./assets/Buttons/Red/Start Game 192x48.png').convert_alpha()"
   ]
  },
  {
   "cell_type": "markdown",
   "id": "6fc9a7e6",
   "metadata": {},
   "source": [
    "#### Text Display"
   ]
  },
  {
   "cell_type": "code",
   "execution_count": 10,
   "id": "80122318",
   "metadata": {
    "ExecuteTime": {
     "end_time": "2023-05-10T07:02:28.489488Z",
     "start_time": "2023-05-10T07:02:28.484996Z"
    }
   },
   "outputs": [],
   "source": [
    "textCol = (255,255,255)\n",
    "colorTextRect = (200,200,200)\n",
    "def drawText(text, font, textCol, x, y):\n",
    "    img = font.render(text, True, textCol)\n",
    "    screen.blit(img, (x, y))"
   ]
  },
  {
   "cell_type": "markdown",
   "id": "3660cd49",
   "metadata": {},
   "source": [
    "#### Option menu"
   ]
  },
  {
   "cell_type": "code",
   "execution_count": 11,
   "id": "7ab39f6f",
   "metadata": {
    "ExecuteTime": {
     "end_time": "2023-05-10T07:02:28.497504Z",
     "start_time": "2023-05-10T07:02:28.490507Z"
    }
   },
   "outputs": [],
   "source": [
    "def optionMenu():\n",
    "    localRun = True\n",
    "    abilityToClick = False\n",
    "    x, y = pygame.display.get_surface().get_size()\n",
    "    audioSettings = Button(x/2-((audioBtn.get_width()/2)*1.5), y/3-((audioBtn.get_height()/2)*1.5), audioBtn, 1.5)\n",
    "    exitMenu = Button(x/2-((exitBtn.get_width()/2)*1.5), 2*y/3-((exitBtn.get_height()/2)*1.5), exitBtn, 1.5)\n",
    "    \n",
    "    while localRun:\n",
    "        pygame.display.flip()\n",
    "        screen.fill((0, 0, 0))\n",
    "        events = pygame.event.get()\n",
    "        if audioSettings.draw(screen) and abilityToClick:\n",
    "            abilityToClick = False\n",
    "            print('Audio')\n",
    "        if exitMenu.draw(screen) and abilityToClick:\n",
    "            abilityToClick = False\n",
    "            localRun = False \n",
    "        abilityToClick = True\n",
    "        for event in pygame.event.get():\n",
    "            if event.type == pygame.QUIT:\n",
    "                quitEvent()"
   ]
  },
  {
   "cell_type": "markdown",
   "id": "78b1683f",
   "metadata": {},
   "source": [
    "#### Join game menu"
   ]
  },
  {
   "cell_type": "code",
   "execution_count": 12,
   "id": "c2dcd724",
   "metadata": {
    "ExecuteTime": {
     "end_time": "2023-05-10T07:02:28.538214Z",
     "start_time": "2023-05-10T07:02:28.499529Z"
    }
   },
   "outputs": [],
   "source": [
    "def joinMenu():\n",
    "    \n",
    "    global currentMessage\n",
    "\n",
    "    global currentRoom\n",
    "\n",
    "    global username\n",
    "\n",
    "    errorMessage = \"\"\n",
    "    \n",
    "    localRun = True\n",
    "\n",
    "    abilityToClick = False\n",
    "\n",
    "    screen.fill((0, 0, 0))\n",
    "\n",
    "    x, y = pygame.display.get_surface().get_size()\n",
    "    \n",
    "    #create rectangle as text box\n",
    "    codeTextBox = pygame.Rect(x/2-((joinBtn.get_width()/2)*1.5),3*y/6-((newBtn.get_height()/2)*1.5)+ (newBtn.get_height()/2)-7, 105,joinBtn.get_height())\n",
    "    usernameTextBox = pygame.Rect(x/2-((joinBtn.get_width()/2)*1.5),y/6-((newBtn.get_height()/2)*1.5)+ (newBtn.get_height()/2)-7, joinBtn.get_width()*1.5,joinBtn.get_height())\n",
    "    #Variable for the text box (color of the rectangle and state of the box selected or not)\n",
    "    activeCode = False\n",
    "    activeUsername = False\n",
    "    \n",
    "    #String for the text box\n",
    "    code = \"\"\n",
    "    \n",
    "    joinRoom = Button(x/2-((joinBtn.get_width()/2)*1.5), 4*y/6-((joinBtn.get_height()/2)*1.5), joinBtn, 1.5)\n",
    "    newRoom = Button(x/2-((newBtn.get_width()/2)*1.5), 2*y/6-((newBtn.get_height()/2)*1.5), newBtn, 1.5)\n",
    "    exitMenu = Button(x/2-((exitBtn.get_width()/2)*1.5), 5*y/6-((exitBtn.get_height()/2)*1.5), exitBtn, 1.5)\n",
    "        \n",
    "    \n",
    "    while localRun:\n",
    "        UI_REFRESH_RATE = clock.tick(60)/1000\n",
    "        screen.fill((0, 0, 0))\n",
    "        #draw the text box\n",
    "        pygame.draw.rect(screen,colorTextRect,codeTextBox,2)\n",
    "        pygame.draw.rect(screen,colorTextRect,usernameTextBox,2)\n",
    "        #write text\n",
    "        label = baseFont.render(errorMessage, 1, textCol)\n",
    "        screen.blit(label, (x/2-((newBtn.get_width()/2)*1.5), y/9-((newBtn.get_height()/2)*1.5) + newBtn.get_height()/2))\n",
    "        label = baseFont.render(\"Your username :\", 1, textCol)\n",
    "        screen.blit(label, (x/2-((newBtn.get_width()/2)*1.5) - 250, y/6-((newBtn.get_height()/2)*1.5) + newBtn.get_height()/2))\n",
    "        label = baseFont.render(\"Room code :\", 1, textCol)\n",
    "        screen.blit(label, (x/2-((joinBtn.get_width()/2)*1.5) - 250, 3*y/6-((joinBtn.get_height()/2)*1.5) + joinBtn.get_height()/2))\n",
    "        #set the location or where we can write\n",
    "        drawText(username, baseFont, textCol, x/2-(newBtn.get_width()/2)*1.5 ,y/6-((newBtn.get_height()/2)*1.5)+ newBtn.get_height()/2)\n",
    "        drawText(code, baseFont, textCol, x/2-(newBtn.get_width()/2)*1.5 ,3*y/6-((newBtn.get_height()/2)*1.5)+ newBtn.get_height()/2)\n",
    "        \n",
    "        for event in pygame.event.get():\n",
    "            if event.type == pygame.QUIT:\n",
    "                quitEvent()\n",
    "            #check if a text box is selected\n",
    "            if event.type == pygame.MOUSEBUTTONDOWN:\n",
    "                if codeTextBox.collidepoint(event.pos):\n",
    "                    activeCode = True\n",
    "                else:\n",
    "                    activeCode = False\n",
    "                if usernameTextBox.collidepoint(event.pos): \n",
    "                    activeUsername = True\n",
    "                else:\n",
    "                    activeUsername = False\n",
    "            #write in the code text box\n",
    "            if activeCode == True:     \n",
    "                if event.type == pygame.TEXTINPUT:\n",
    "                    if len(code) < 5:\n",
    "                        if event.text != \",\" and event.text != \".\":\n",
    "                            code += event.text.upper()\n",
    "                if event.type == pygame.KEYDOWN:\n",
    "                    if event.key == pygame.K_BACKSPACE:\n",
    "                        code = code[:-1]\n",
    "            #write in the username text box            \n",
    "            if activeUsername == True:     \n",
    "                if event.type == pygame.TEXTINPUT:\n",
    "                    if len(username) < 13:\n",
    "                        if event.text != \",\" and event.text != \".\":\n",
    "                            username += event.text\n",
    "                if event.type == pygame.KEYDOWN:\n",
    "                    if event.key == pygame.K_BACKSPACE:\n",
    "                        username = username[:-1]\n",
    "        if newRoom.draw(screen) and abilityToClick:\n",
    "            abilityToClick = False\n",
    "            if len(username) > 0:\n",
    "                send(f\"{username},createRoom,-1\")\n",
    "                while currentMessage[0] != \"error\" or currentMessage[0] != \"joinNow\":\n",
    "                    if currentMessage[0] == \"error\":\n",
    "                        currentRoom = currentMessage[1]\n",
    "                        errorMessage = \"Cannot create a room.\"\n",
    "                        break\n",
    "                    elif currentMessage[0] == \"joinNow\":\n",
    "                        currentRoom = currentMessage[1]\n",
    "                        errorMessage = \"\"\n",
    "                        lobbyMenu()\n",
    "                        break\n",
    "                currentMessage = [\"none\",\"none\",\"none\"]\n",
    "            else:\n",
    "                errorMessage = \"Please enter a username.\"\n",
    "        if joinRoom.draw(screen) and abilityToClick:\n",
    "            abilityToClick = False\n",
    "            if len(username) > 0 and len(code) > 0:\n",
    "                send(f\"{username},joinRoom,{code}\")\n",
    "                while currentMessage[0] != \"error\" or currentMessage[0] != \"joinNow\":\n",
    "                    if currentMessage[0] == \"error\":\n",
    "                        currentRoom = currentMessage[1]\n",
    "                        errorMessage = \"Cannot join this room (may be full or not exist).\"\n",
    "                        break\n",
    "                    elif currentMessage[0] == \"joinNow\":\n",
    "                        currentRoom = currentMessage[1]\n",
    "                        errorMessage = \"\"\n",
    "                        lobbyMenu()\n",
    "                        break\n",
    "                currentMessage = [\"none\",\"none\",\"none\"]\n",
    "            else:\n",
    "                errorMessage = \"Please enter a username and a room code.\"\n",
    "        if exitMenu.draw(screen) and abilityToClick:\n",
    "            abilityToClick = False\n",
    "            localRun = False\n",
    "        abilityToClick = True\n",
    "        pygame.display.flip()\n",
    "        pygame.display.update()\n",
    "        "
   ]
  },
  {
   "cell_type": "markdown",
   "id": "780f4e3e",
   "metadata": {},
   "source": [
    "#### Current lobby menu"
   ]
  },
  {
   "cell_type": "code",
   "execution_count": 13,
   "id": "2b50786c",
   "metadata": {
    "ExecuteTime": {
     "end_time": "2023-05-10T07:02:28.547429Z",
     "start_time": "2023-05-10T07:02:28.539250Z"
    }
   },
   "outputs": [],
   "source": [
    "def lobbyMenu():\n",
    "    localRun = True\n",
    "\n",
    "    global players\n",
    "\n",
    "    global currentRoom\n",
    "\n",
    "    global currentMessage\n",
    "\n",
    "    global username\n",
    "    \n",
    "    abilityToClick = False\n",
    "\n",
    "    x, y = pygame.display.get_surface().get_size()\n",
    "    startGame = Button(x/2-((startGameBtn.get_width()/2)*1.5), y/3-((startGameBtn.get_height()/2)*1.5), startGameBtn, 1.5)\n",
    "    quitGame = Button(x/2-((quitGameBtn.get_width()/2)*1.5), 2*y/3-((quitGameBtn.get_height()/2)*1.5), quitGameBtn, 1.5)\n",
    "    \n",
    "    send(f\"{username},getPlayers,{currentRoom}\")\n",
    "    while localRun:\n",
    "        screen.fill((0, 0, 0))\n",
    "        if currentMessage[0] == \"setPlayers\":\n",
    "            players = []\n",
    "            counter = 0\n",
    "            for msg in currentMessage:\n",
    "                if counter > 0:\n",
    "                    players.append(msg)\n",
    "                counter = counter + 1\n",
    "            currentMessage = [\"none\",\"none\",\"none\"]\n",
    "        label = baseFont.render(f\"Current room : {currentRoom}\", 1, textCol)\n",
    "        screen.blit(label, (50, 50))\n",
    "        counter = 0\n",
    "        for p in players:\n",
    "            counter = counter + 1\n",
    "            label = baseFont.render(f\"Player {counter} : {p}\", 1, textCol)\n",
    "            screen.blit(label, (50, 50*(counter+1)))\n",
    "        if startGame.draw(screen) and abilityToClick:\n",
    "            abilityToClick = False\n",
    "            joinMenu()\n",
    "        if quitGame.draw(screen) and abilityToClick:\n",
    "            abilityToClick = False\n",
    "            players = []\n",
    "            send(f\"{username},quitRoom,{currentRoom}\")\n",
    "            localRun = False            \n",
    "        abilityToClick = True\n",
    "        pygame.display.flip()\n",
    "        for event in pygame.event.get():\n",
    "            if event.type == pygame.QUIT:\n",
    "                quitEvent()\n",
    "        pygame.display.update()"
   ]
  },
  {
   "cell_type": "markdown",
   "id": "0c121aa3",
   "metadata": {},
   "source": [
    "#### Game table"
   ]
  },
  {
   "cell_type": "code",
   "execution_count": null,
   "id": "343b0dea",
   "metadata": {},
   "outputs": [],
   "source": [
    "def gameTable():\n",
    "    print(\"table\")"
   ]
  },
  {
   "cell_type": "markdown",
   "id": "57de9dcc",
   "metadata": {},
   "source": [
    "#### Pygame main menu"
   ]
  },
  {
   "cell_type": "code",
   "execution_count": 14,
   "id": "7303503a",
   "metadata": {
    "ExecuteTime": {
     "end_time": "2023-05-10T07:02:28.556589Z",
     "start_time": "2023-05-10T07:02:28.549419Z"
    }
   },
   "outputs": [],
   "source": [
    "def mainMenu():\n",
    "    global run\n",
    "    \n",
    "    abilityToClick = False\n",
    "\n",
    "    x, y = pygame.display.get_surface().get_size()\n",
    "    newGame = Button(x/2-((newGameBtn.get_width()/2)*1.5), y/4-((newGameBtn.get_height()/2)*1.5), newGameBtn, 1.5)\n",
    "    option = Button(x/2-((optionBtn.get_width()/2)*1.5), y/2-((optionBtn.get_height()/2)*1.5), optionBtn, 1.5)\n",
    "    quit = Button(x/2-((quitBtn.get_width()/2)*1.5), 3*y/4-((quitBtn.get_height()/2)*1.5), quitBtn, 1.5)\n",
    "\n",
    "    while run:\n",
    "        screen.fill((0, 0, 0))\n",
    "        if newGame.draw(screen) and abilityToClick:\n",
    "            abilityToClick = False\n",
    "            joinMenu()\n",
    "        if option.draw(screen) and abilityToClick:\n",
    "            abilityToClick = False\n",
    "            optionMenu()\n",
    "        if quit.draw(screen) and abilityToClick:\n",
    "            abilityToClick = False\n",
    "            run = False\n",
    "        abilityToClick = True\n",
    "        pygame.display.flip()\n",
    "        for event in pygame.event.get():\n",
    "            if event.type == pygame.QUIT:\n",
    "                run = False\n",
    "        pygame.display.update()\n",
    "    "
   ]
  },
  {
   "cell_type": "markdown",
   "id": "cf3beef0",
   "metadata": {},
   "source": [
    "#### Start listening on socket"
   ]
  },
  {
   "cell_type": "code",
   "execution_count": 15,
   "id": "fd20a155",
   "metadata": {
    "ExecuteTime": {
     "end_time": "2023-05-10T07:02:28.569743Z",
     "start_time": "2023-05-10T07:02:28.557584Z"
    }
   },
   "outputs": [
    {
     "data": {
      "text/plain": [
       "<Future at 0x2331db71f70 state=pending>"
      ]
     },
     "execution_count": 15,
     "metadata": {},
     "output_type": "execute_result"
    }
   ],
   "source": [
    "new_loop = asyncio.new_event_loop()\n",
    "t = threading.Thread(target=start_loop, args=(new_loop,))\n",
    "t.start()\n",
    "\n",
    "asyncio.run_coroutine_threadsafe(socket(), new_loop)"
   ]
  },
  {
   "cell_type": "markdown",
   "id": "a7813e4b",
   "metadata": {},
   "source": [
    "#### Pygame main loop"
   ]
  },
  {
   "cell_type": "code",
   "execution_count": 16,
   "id": "2652cffc",
   "metadata": {
    "ExecuteTime": {
     "end_time": "2023-05-10T07:10:55.967473Z",
     "start_time": "2023-05-10T07:02:28.570810Z"
    }
   },
   "outputs": [
    {
     "ename": "error",
     "evalue": "video system not initialized",
     "output_type": "error",
     "traceback": [
      "\u001b[1;31m---------------------------------------------------------------------------\u001b[0m",
      "\u001b[1;31merror\u001b[0m                                     Traceback (most recent call last)",
      "\u001b[1;32m~\\AppData\\Local\\Temp\\ipykernel_10140\\4244392338.py\u001b[0m in \u001b[0;36m<module>\u001b[1;34m\u001b[0m\n\u001b[0;32m      3\u001b[0m     \u001b[0mscreen\u001b[0m\u001b[1;33m.\u001b[0m\u001b[0mfill\u001b[0m\u001b[1;33m(\u001b[0m\u001b[1;33m(\u001b[0m\u001b[1;36m0\u001b[0m\u001b[1;33m,\u001b[0m \u001b[1;36m0\u001b[0m\u001b[1;33m,\u001b[0m \u001b[1;36m0\u001b[0m\u001b[1;33m)\u001b[0m\u001b[1;33m)\u001b[0m\u001b[1;33m\u001b[0m\u001b[1;33m\u001b[0m\u001b[0m\n\u001b[0;32m      4\u001b[0m \u001b[1;33m\u001b[0m\u001b[0m\n\u001b[1;32m----> 5\u001b[1;33m     \u001b[0mmainMenu\u001b[0m\u001b[1;33m(\u001b[0m\u001b[1;33m)\u001b[0m\u001b[1;33m\u001b[0m\u001b[1;33m\u001b[0m\u001b[0m\n\u001b[0m\u001b[0;32m      6\u001b[0m \u001b[1;33m\u001b[0m\u001b[0m\n\u001b[0;32m      7\u001b[0m     \u001b[0mpygame\u001b[0m\u001b[1;33m.\u001b[0m\u001b[0mdisplay\u001b[0m\u001b[1;33m.\u001b[0m\u001b[0mflip\u001b[0m\u001b[1;33m(\u001b[0m\u001b[1;33m)\u001b[0m\u001b[1;33m\u001b[0m\u001b[1;33m\u001b[0m\u001b[0m\n",
      "\u001b[1;32m~\\AppData\\Local\\Temp\\ipykernel_10140\\2143147257.py\u001b[0m in \u001b[0;36mmainMenu\u001b[1;34m()\u001b[0m\n\u001b[0;32m     13\u001b[0m         \u001b[1;32mif\u001b[0m \u001b[0mnewGame\u001b[0m\u001b[1;33m.\u001b[0m\u001b[0mdraw\u001b[0m\u001b[1;33m(\u001b[0m\u001b[0mscreen\u001b[0m\u001b[1;33m)\u001b[0m \u001b[1;32mand\u001b[0m \u001b[0mabilityToClick\u001b[0m\u001b[1;33m:\u001b[0m\u001b[1;33m\u001b[0m\u001b[1;33m\u001b[0m\u001b[0m\n\u001b[0;32m     14\u001b[0m             \u001b[0mabilityToClick\u001b[0m \u001b[1;33m=\u001b[0m \u001b[1;32mFalse\u001b[0m\u001b[1;33m\u001b[0m\u001b[1;33m\u001b[0m\u001b[0m\n\u001b[1;32m---> 15\u001b[1;33m             \u001b[0mjoinMenu\u001b[0m\u001b[1;33m(\u001b[0m\u001b[1;33m)\u001b[0m\u001b[1;33m\u001b[0m\u001b[1;33m\u001b[0m\u001b[0m\n\u001b[0m\u001b[0;32m     16\u001b[0m         \u001b[1;32mif\u001b[0m \u001b[0moption\u001b[0m\u001b[1;33m.\u001b[0m\u001b[0mdraw\u001b[0m\u001b[1;33m(\u001b[0m\u001b[0mscreen\u001b[0m\u001b[1;33m)\u001b[0m \u001b[1;32mand\u001b[0m \u001b[0mabilityToClick\u001b[0m\u001b[1;33m:\u001b[0m\u001b[1;33m\u001b[0m\u001b[1;33m\u001b[0m\u001b[0m\n\u001b[0;32m     17\u001b[0m             \u001b[0mabilityToClick\u001b[0m \u001b[1;33m=\u001b[0m \u001b[1;32mFalse\u001b[0m\u001b[1;33m\u001b[0m\u001b[1;33m\u001b[0m\u001b[0m\n",
      "\u001b[1;32m~\\AppData\\Local\\Temp\\ipykernel_10140\\784134567.py\u001b[0m in \u001b[0;36mjoinMenu\u001b[1;34m()\u001b[0m\n\u001b[0;32m     80\u001b[0m                     \u001b[1;32mif\u001b[0m \u001b[0mevent\u001b[0m\u001b[1;33m.\u001b[0m\u001b[0mkey\u001b[0m \u001b[1;33m==\u001b[0m \u001b[0mpygame\u001b[0m\u001b[1;33m.\u001b[0m\u001b[0mK_BACKSPACE\u001b[0m\u001b[1;33m:\u001b[0m\u001b[1;33m\u001b[0m\u001b[1;33m\u001b[0m\u001b[0m\n\u001b[0;32m     81\u001b[0m                         \u001b[0musername\u001b[0m \u001b[1;33m=\u001b[0m \u001b[0musername\u001b[0m\u001b[1;33m[\u001b[0m\u001b[1;33m:\u001b[0m\u001b[1;33m-\u001b[0m\u001b[1;36m1\u001b[0m\u001b[1;33m]\u001b[0m\u001b[1;33m\u001b[0m\u001b[1;33m\u001b[0m\u001b[0m\n\u001b[1;32m---> 82\u001b[1;33m         \u001b[1;32mif\u001b[0m \u001b[0mnewRoom\u001b[0m\u001b[1;33m.\u001b[0m\u001b[0mdraw\u001b[0m\u001b[1;33m(\u001b[0m\u001b[0mscreen\u001b[0m\u001b[1;33m)\u001b[0m \u001b[1;32mand\u001b[0m \u001b[0mabilityToClick\u001b[0m\u001b[1;33m:\u001b[0m\u001b[1;33m\u001b[0m\u001b[1;33m\u001b[0m\u001b[0m\n\u001b[0m\u001b[0;32m     83\u001b[0m             \u001b[0mabilityToClick\u001b[0m \u001b[1;33m=\u001b[0m \u001b[1;32mFalse\u001b[0m\u001b[1;33m\u001b[0m\u001b[1;33m\u001b[0m\u001b[0m\n\u001b[0;32m     84\u001b[0m             \u001b[1;32mif\u001b[0m \u001b[0mlen\u001b[0m\u001b[1;33m(\u001b[0m\u001b[0musername\u001b[0m\u001b[1;33m)\u001b[0m \u001b[1;33m>\u001b[0m \u001b[1;36m0\u001b[0m\u001b[1;33m:\u001b[0m\u001b[1;33m\u001b[0m\u001b[1;33m\u001b[0m\u001b[0m\n",
      "\u001b[1;32m~\\AppData\\Local\\Temp\\ipykernel_10140\\1561661747.py\u001b[0m in \u001b[0;36mdraw\u001b[1;34m(self, surface)\u001b[0m\n\u001b[0;32m     11\u001b[0m         \u001b[0maction\u001b[0m \u001b[1;33m=\u001b[0m \u001b[1;32mFalse\u001b[0m\u001b[1;33m\u001b[0m\u001b[1;33m\u001b[0m\u001b[0m\n\u001b[0;32m     12\u001b[0m         \u001b[1;31m#get mouse position\u001b[0m\u001b[1;33m\u001b[0m\u001b[1;33m\u001b[0m\u001b[0m\n\u001b[1;32m---> 13\u001b[1;33m         \u001b[0mpos\u001b[0m \u001b[1;33m=\u001b[0m \u001b[0mpygame\u001b[0m\u001b[1;33m.\u001b[0m\u001b[0mmouse\u001b[0m\u001b[1;33m.\u001b[0m\u001b[0mget_pos\u001b[0m\u001b[1;33m(\u001b[0m\u001b[1;33m)\u001b[0m\u001b[1;33m\u001b[0m\u001b[1;33m\u001b[0m\u001b[0m\n\u001b[0m\u001b[0;32m     14\u001b[0m \u001b[1;33m\u001b[0m\u001b[0m\n\u001b[0;32m     15\u001b[0m         \u001b[1;31m#check mouseover and clicked conditions\u001b[0m\u001b[1;33m\u001b[0m\u001b[1;33m\u001b[0m\u001b[0m\n",
      "\u001b[1;31merror\u001b[0m: video system not initialized"
     ]
    }
   ],
   "source": [
    "while run:\n",
    "\n",
    "    screen.fill((0, 0, 0))\n",
    "\n",
    "    mainMenu()\n",
    "\n",
    "    pygame.display.flip()\n",
    "    \n",
    "    for event in pygame.event.get():\n",
    "        if event.type == pygame.QUIT:\n",
    "            run = False\n",
    "\n",
    "    pygame.display.update()\n",
    "\n",
    "quitEvent()"
   ]
  }
 ],
 "metadata": {
  "kernelspec": {
   "display_name": "Python 3 (ipykernel)",
   "language": "python",
   "name": "python3"
  },
  "language_info": {
   "codemirror_mode": {
    "name": "ipython",
    "version": 3
   },
   "file_extension": ".py",
   "mimetype": "text/x-python",
   "name": "python",
   "nbconvert_exporter": "python",
   "pygments_lexer": "ipython3",
   "version": "3.9.13"
  }
 },
 "nbformat": 4,
 "nbformat_minor": 5
}
